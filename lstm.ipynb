{
 "cells": [
  {
   "cell_type": "code",
   "execution_count": 2,
   "metadata": {},
   "outputs": [],
   "source": [
    "import tensorflow as tf\n",
    "import numpy as np\n",
    "import pandas as pd\n",
    "import matplotlib.pyplot as plt\n",
    "import os, librosa\n",
    "\n",
    "from tensorflow.keras.layers import Dense, LSTM, Input, TimeDistributed, Bidirectional, Activation\n",
    "from tensorflow.keras.regularizers import l2\n",
    "from tensorflow.keras.models import Model"
   ]
  },
  {
   "cell_type": "code",
   "execution_count": 6,
   "metadata": {},
   "outputs": [],
   "source": [
    "def onehot(str):\n",
    "    path = './Drum'\n",
    "    kits = os.listdir(path)\n",
    "    #kits.remove('.DS_Store')\n",
    "    \n",
    "    oh = []\n",
    "\n",
    "    for kit in kits:\n",
    "        if str == kit:\n",
    "            oh.append(1)\n",
    "        else:\n",
    "            oh.append(0)\n",
    "    \n",
    "    return np.array(oh)"
   ]
  },
  {
   "cell_type": "code",
   "execution_count": 109,
   "metadata": {},
   "outputs": [],
   "source": [
    "def make4096(wav):\n",
    "    while len(wav) < 4096:\n",
    "        wav = np.append(wav, np.array([0]))\n",
    "    return wav[:4096]\n",
    "            "
   ]
  },
  {
   "cell_type": "code",
   "execution_count": 77,
   "metadata": {},
   "outputs": [],
   "source": [
    "CNN_INPUT_SIZE = (128, 20)\n",
    "DEFAULT_SR = 22050"
   ]
  },
  {
   "cell_type": "code",
   "execution_count": 42,
   "metadata": {},
   "outputs": [],
   "source": [
    "def resize_axis(array, N):\n",
    "    if(array.shape[1] > N):\n",
    "        resized = array[:,:N]\n",
    "    else:\n",
    "        resized = np.lib.pad(array, ((0,0),(0,N - array.shape[1])),\\\n",
    "            'constant', constant_values=(np.min(array)))\n",
    "    return resized"
   ]
  },
  {
   "cell_type": "code",
   "execution_count": 88,
   "metadata": {},
   "outputs": [],
   "source": [
    "def extract_cnn_input(raw_audio):\n",
    "    frame_length = min(2048, len(raw_audio))\n",
    "    mel_spec = librosa.core.power_to_db(librosa.feature.melspectrogram(\n",
    "        y=raw_audio, sr=DEFAULT_SR, n_fft=frame_length,\n",
    "        hop_length=frame_length//4, n_mels=CNN_INPUT_SIZE[0])\n",
    "    )\n",
    "    # Truncate number of frames stored\n",
    "    m = min(CNN_INPUT_SIZE[1], mel_spec.shape[1])\n",
    "    N = 20\n",
    "    mell = resize_axis(mel_spec[:, 0:m], N)\n",
    "    return mell"
   ]
  },
  {
   "cell_type": "markdown",
   "metadata": {},
   "source": [
    "---"
   ]
  },
  {
   "cell_type": "code",
   "execution_count": 89,
   "metadata": {},
   "outputs": [],
   "source": [
    "#path = 'Drum\\Snare\\9th Snare 38.wav'\n",
    "\n",
    "y_label = None\n",
    "x_label = None\n",
    "\n",
    "drumkit_path = './Drum'\n",
    "kits = os.listdir(drumkit_path)\n",
    "\n",
    "for kit in kits:\n",
    "    path = os.path.join(drumkit_path, kit)\n",
    "    sounds = os.listdir(path)\n",
    "    \n",
    "    for sound in sounds:\n",
    "        wavfile = os.path.join(path, sound)\n",
    "        y, sr = librosa.load(wavfile)\n",
    "        yt, index = librosa.effects.trim(y=y, top_db=30)\n",
    "        yt = librosa.util.normalize(yt)\n",
    "        k = extract_cnn_input(yt)\n",
    "        k = np.expand_dims(k, axis=0)\n",
    "        \n",
    "        typ = onehot(kit)\n",
    "        typ = np.expand_dims(typ, axis=0)\n",
    "        \n",
    "        if x_label is None:\n",
    "            x_label = k.copy()\n",
    "            y_label = typ.copy()\n",
    "        else:\n",
    "            x_label = np.concatenate((x_label, k), axis=0)\n",
    "            y_label = np.concatenate((y_label, typ), axis=0)\n",
    "        \n",
    "        "
   ]
  },
  {
   "cell_type": "code",
   "execution_count": 110,
   "metadata": {},
   "outputs": [],
   "source": [
    "#path = 'Drum\\Snare\\9th Snare 38.wav'\n",
    "\n",
    "y_label = None\n",
    "x_label = None\n",
    "\n",
    "drumkit_path = './Drum'\n",
    "kits = os.listdir(drumkit_path)\n",
    "n=0\n",
    "\n",
    "for kit in kits:\n",
    "    path = os.path.join(drumkit_path, kit)\n",
    "    sounds = os.listdir(path)\n",
    "    \n",
    "    for sound in sounds:\n",
    "        wavfile = os.path.join(path, sound)\n",
    "        y, sr = librosa.load(wavfile)\n",
    "        yt, index = librosa.effects.trim(y=y, top_db=30)\n",
    "        y_16k = librosa.resample(yt, orig_sr=sr, target_sr=16000)\n",
    "        #yt16k = librosa.util.normalize(y_16k)\n",
    "        n += len(y_16k)\n",
    "        yt16k = make4096(y_16k)\n",
    "        yt16k = np.expand_dims(yt16k, axis=0)\n",
    "        \n",
    "        typ = onehot(kit)\n",
    "        typ = np.expand_dims(typ, axis=0)\n",
    "        \n",
    "        if x_label is None:\n",
    "            x_label = yt16k.copy()\n",
    "            y_label = typ.copy()\n",
    "        else:\n",
    "            x_label = np.concatenate((x_label, yt16k), axis=0)\n",
    "            y_label = np.concatenate((y_label, typ), axis=0)\n",
    "        \n",
    "        "
   ]
  },
  {
   "cell_type": "code",
   "execution_count": 112,
   "metadata": {},
   "outputs": [],
   "source": [
    "from sklearn.model_selection import train_test_split\n",
    "\n",
    "x_train, x_test, y_train, y_test = train_test_split(x_label, y_label, test_size=0.2)"
   ]
  },
  {
   "cell_type": "code",
   "execution_count": 91,
   "metadata": {},
   "outputs": [],
   "source": [
    "# yy_test = np.argmax(y_test, axis = 1)\n",
    "# yy_train = np.argmax(y_train, axis = 1)\n",
    "\n",
    "x_train = x_train.reshape((560,1,4096))"
   ]
  },
  {
   "cell_type": "markdown",
   "metadata": {},
   "source": [
    "---"
   ]
  },
  {
   "cell_type": "code",
   "execution_count": 129,
   "metadata": {},
   "outputs": [
    {
     "name": "stdout",
     "output_type": "stream",
     "text": [
      "WARNING:tensorflow:Layer lstm_70 will not use cuDNN kernels since it doesn't meet the criteria. It will use a generic GPU kernel as fallback when running on GPU.\n",
      "WARNING:tensorflow:Layer lstm_71 will not use cuDNN kernels since it doesn't meet the criteria. It will use a generic GPU kernel as fallback when running on GPU.\n",
      "WARNING:tensorflow:Layer lstm_70 will not use cuDNN kernels since it doesn't meet the criteria. It will use a generic GPU kernel as fallback when running on GPU.\n"
     ]
    }
   ],
   "source": [
    "units = 256\n",
    "dropout = 0.2\n",
    "\n",
    "model = tf.keras.models.Sequential()\n",
    "forward_layer = tf.keras.layers.LSTM(units=units, dropout=dropout, recurrent_dropout=dropout)\n",
    "backward_layer = tf.keras.layers.LSTM(units=units, activation='relu', go_backwards=True, dropout=dropout, recurrent_dropout=dropout)\n",
    "model.add(Bidirectional(forward_layer, backward_layer=backward_layer, input_shape=(1,4096)))\n",
    "# model.add(Dense(64, activation='relu'))\n",
    "model.add(Dense(7, activation='softmax'))\n",
    "\n",
    "model.compile(optimizer='adam',\n",
    "              loss=tf.keras.losses.categorical_crossentropy,\n",
    "              metrics=['accuracy'])\n"
   ]
  },
  {
   "cell_type": "code",
   "execution_count": 130,
   "metadata": {},
   "outputs": [
    {
     "name": "stdout",
     "output_type": "stream",
     "text": [
      "Epoch 1/5\n",
      "16/16 [==============================] - 3s 45ms/step - loss: 1.8392 - accuracy: 0.2976 - val_loss: 1.7298 - val_accuracy: 0.3929\n",
      "Epoch 2/5\n",
      "16/16 [==============================] - 0s 25ms/step - loss: 1.3291 - accuracy: 0.7758 - val_loss: 1.6754 - val_accuracy: 0.4286\n",
      "Epoch 3/5\n",
      "16/16 [==============================] - 0s 25ms/step - loss: 1.0504 - accuracy: 0.8948 - val_loss: 1.6283 - val_accuracy: 0.5000\n",
      "Epoch 4/5\n",
      "16/16 [==============================] - 0s 25ms/step - loss: 0.8254 - accuracy: 0.9385 - val_loss: 1.5986 - val_accuracy: 0.5000\n",
      "Epoch 5/5\n",
      "16/16 [==============================] - 0s 25ms/step - loss: 0.6553 - accuracy: 0.9504 - val_loss: 1.5492 - val_accuracy: 0.5179\n"
     ]
    }
   ],
   "source": [
    "with tf.device('/gpu:0'):\n",
    "    history = model.fit(x_train, y_train, epochs=5, validation_split=0.1)"
   ]
  },
  {
   "cell_type": "code",
   "execution_count": 131,
   "metadata": {},
   "outputs": [
    {
     "data": {
      "image/png": "[encoded data removed]",
      "text/plain": [
       "<Figure size 576x576 with 2 Axes>"
      ]
     },
     "metadata": {
      "needs_background": "light"
     },
     "output_type": "display_data"
    }
   ],
   "source": [
    "import matplotlib.pyplot as plt\n",
    "\n",
    "acc = history.history['loss']\n",
    "val_acc = history.history['val_loss']\n",
    "\n",
    "loss = history.history['accuracy']\n",
    "val_loss = history.history['val_accuracy']\n",
    "\n",
    "epochs_range = range(5)\n",
    "\n",
    "plt.figure(figsize=(8, 8))\n",
    "plt.subplot(1, 2, 1)\n",
    "plt.plot(epochs_range, acc, label='Training Loss')\n",
    "plt.plot(epochs_range, val_acc, label='Validation Loss')\n",
    "plt.legend(loc='lower right')\n",
    "plt.title('Training and Validation Loss')\n",
    "\n",
    "plt.subplot(1, 2, 2)\n",
    "plt.plot(epochs_range, loss, label='Training Acc')\n",
    "plt.plot(epochs_range, val_loss, label='Validation Acc')\n",
    "plt.legend(loc='upper right')\n",
    "plt.title('Training and Validation Acc')\n",
    "plt.show()"
   ]
  },
  {
   "cell_type": "code",
   "execution_count": 141,
   "metadata": {},
   "outputs": [],
   "source": [
    "y_pred =model.predict(x_test.reshape(x_test.shape[0],1,x_test.shape[1]))\n",
    "ypred = np.argmax(y_pred,axis=1)"
   ]
  },
  {
   "cell_type": "code",
   "execution_count": 135,
   "metadata": {},
   "outputs": [
    {
     "name": "stdout",
     "output_type": "stream",
     "text": [
      "5/5 [==============================] - 0s 6ms/step - loss: 1.6638 - accuracy: 0.4571\n"
     ]
    },
    {
     "data": {
      "text/plain": [
       "[1.6638104915618896, 0.4571428596973419]"
      ]
     },
     "execution_count": 135,
     "metadata": {},
     "output_type": "execute_result"
    }
   ],
   "source": [
    "model.evaluate(x_test.reshape(x_test.shape[0],1,x_test.shape[1]),y_test)"
   ]
  },
  {
   "cell_type": "code",
   "execution_count": 145,
   "metadata": {},
   "outputs": [
    {
     "data": {
      "text/plain": [
       "<AxesSubplot:>"
      ]
     },
     "execution_count": 145,
     "metadata": {},
     "output_type": "execute_result"
    },
    {
     "data": {
      "image/png": "[encoded data removed]",
      "text/plain": [
       "<Figure size 432x288 with 2 Axes>"
      ]
     },
     "metadata": {
      "needs_background": "light"
     },
     "output_type": "display_data"
    }
   ],
   "source": [
    "from sklearn.metrics import confusion_matrix\n",
    "import pandas as pd\n",
    "import seaborn as sns\n",
    "\n",
    "classes = ['Conga&Bongo', 'Crash&OpenHat', 'Hi-Hat', 'Kick', 'Shaker', 'Snare', 'Tom']\n",
    "\n",
    "cm = pd.DataFrame(confusion_matrix(np.argmax(y_test,axis=1), ypred), columns=classes, index=classes)\n",
    "sns.heatmap(cm, annot=True)"
   ]
  },
  {
   "cell_type": "code",
   "execution_count": null,
   "metadata": {},
   "outputs": [],
   "source": []
  }
 ],
 "metadata": {
  "kernelspec": {
   "display_name": "Python 3.9.7 ('base')",
   "language": "python",
   "name": "python3"
  },
  "language_info": {
   "codemirror_mode": {
    "name": "ipython",
    "version": 3
   },
   "file_extension": ".py",
   "mimetype": "text/x-python",
   "name": "python",
   "nbconvert_exporter": "python",
   "pygments_lexer": "ipython3",
   "version": "3.9.7"
  },
  "orig_nbformat": 4,
  "vscode": {
   "interpreter": {
    "hash": "9cda7dce2d78f3c21f6a73de63970ac35274352b7a0f13225446d99cae259cfd"
   }
  }
 },
 "nbformat": 4,
 "nbformat_minor": 2
}
