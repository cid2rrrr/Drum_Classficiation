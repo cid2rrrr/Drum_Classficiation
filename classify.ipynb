{
 "cells": [
  {
   "cell_type": "code",
   "execution_count": 1,
   "metadata": {},
   "outputs": [],
   "source": [
    "#!conda install -c conda-forge librosa\n",
    "    #librosa.org\n"
   ]
  },
  {
   "cell_type": "code",
   "execution_count": 1,
   "metadata": {},
   "outputs": [
    {
     "data": {
      "text/plain": [
       "<matplotlib.colorbar.Colorbar at 0x162145e80>"
      ]
     },
     "execution_count": 1,
     "metadata": {},
     "output_type": "execute_result"
    },
    {
     "data": {
      "image/png": "[encoded data removed]",
      "text/plain": [
       "<Figure size 432x288 with 2 Axes>"
      ]
     },
     "metadata": {
      "needs_background": "light"
     },
     "output_type": "display_data"
    }
   ],
   "source": [
    "import librosa\n",
    "import librosa.display\n",
    "\n",
    "import numpy as np\n",
    "import matplotlib.pyplot as plt\n",
    "\n",
    "from past.utils import old_div\n",
    "\n",
    "#filename = librosa.example('nutcracker')\n",
    "y, sr = librosa.load('/Users/cooky/HDD/Drum/Dilla Drums/!Snare 170.wav')\n",
    "\n",
    "tempo, beat_frame = librosa.beat.beat_track(y=y, sr=sr)\n",
    "\n",
    "D = librosa.stft(y)  # STFT of y\n",
    "S_db = librosa.amplitude_to_db(np.abs(D), ref=np.max)\n",
    "\n",
    "plt.figure()\n",
    "librosa.display.specshow(S_db)\n",
    "plt.colorbar()\n"
   ]
  },
  {
   "cell_type": "code",
   "execution_count": 33,
   "metadata": {},
   "outputs": [],
   "source": [
    "#return the avg of eq bands of the sound divided in div\n",
    "\n",
    "def eq_bands(wav, div):\n",
    "    freq_spec = librosa.amplitude_to_db(\n",
    "        librosa.magphase(\n",
    "            librosa.stft(y=wav,\n",
    "            n_fft=div+1))[0],\n",
    "        ref=np.max\n",
    "    )\n",
    "\n",
    "    return list([float(x) for x in np.mean(freq_spec, axis=1)])"
   ]
  },
  {
   "cell_type": "code",
   "execution_count": 34,
   "metadata": {},
   "outputs": [],
   "source": [
    "# return root mean square\n",
    "\n",
    "def rms(num):\n",
    "    return float(np.sqrt(np.mean(np.square(num))))"
   ]
  },
  {
   "cell_type": "code",
   "execution_count": 35,
   "metadata": {},
   "outputs": [],
   "source": [
    "# return how much loud at the pos\n",
    "\n",
    "def loudness_at(data, pos, window_size=100):\n",
    "    window_start = max(0, pos - old_div(window_size, 2))\n",
    "    window_end = min(len(data), window_start + window_size)\n",
    "    if (window_end - window_start) < window_size:\n",
    "        window_start = max(0, window_end - window_size)\n",
    "    windowed = data[int(window_start):int(window_end)]\n",
    "    return rms(windowed)"
   ]
  },
  {
   "cell_type": "code",
   "execution_count": 36,
   "metadata": {},
   "outputs": [],
   "source": [
    "#normalize the audio input\n",
    "# \n",
    "def normalize(audio):\n",
    "    return audio.astype(np.float32) / float(np.amax(np.abs(audio)))"
   ]
  },
  {
   "cell_type": "code",
   "execution_count": 58,
   "metadata": {},
   "outputs": [],
   "source": [
    "neg80point8db = 0.00009120108393559096\n",
    "bit_depth = 16\n",
    "\n",
    "default_silence_threshold = (neg80point8db * (2 ** (bit_depth - 1))) * 4\n",
    "\n",
    "def start_of(list, threshold=default_silence_threshold, samples_before=1):\n",
    "    \"\"\"Estimate where the start of a given signal is, in samples.\"\"\"\n",
    "    if int(threshold) != threshold:\n",
    "        threshold = threshold * float(2 ** (bit_depth - 1))\n",
    "    index = np.argmax(np.absolute(list) > threshold)\n",
    "    if index > (samples_before - 1):\n",
    "        return index - samples_before\n",
    "    else:\n",
    "        return 0\n",
    "\n",
    "\n",
    "def end_of(list, threshold=default_silence_threshold, samples_after=1):\n",
    "    \"\"\"Estimate where the end of a given signal is, in samples.\"\"\"\n",
    "    if int(threshold) != threshold:\n",
    "        threshold = threshold * float(2 ** (bit_depth - 1))\n",
    "    rev_index = np.argmax(\n",
    "        np.flipud(np.absolute(list)) > threshold\n",
    "    )\n",
    "    if rev_index > (samples_after - 1):\n",
    "        return len(list) - (rev_index - samples_after)\n",
    "    else:\n",
    "        return len(list)\n",
    "\n",
    "\n",
    "def trim_data(\n",
    "    data,\n",
    "    start_threshold=default_silence_threshold,\n",
    "    end_threshold=default_silence_threshold\n",
    "):\n",
    "    \"\"\"Returns a trimmed signal based on its estimated start and end.\"\"\"\n",
    "    start = start_of(data, start_threshold)\n",
    "    end = end_of(data, end_threshold)\n",
    "\n",
    "    return data[start:end]\n"
   ]
  },
  {
   "cell_type": "code",
   "execution_count": 59,
   "metadata": {},
   "outputs": [],
   "source": [
    "#from audio_utils import loudness_at\n",
    "\n",
    "def load_and_trim(file):\n",
    "    y, rate = librosa.load(file, mono=True)\n",
    "    y = normalize(y)\n",
    "    trimmed_y = trim_data(y)\n",
    "    return trimmed_y, rate\n",
    "    "
   ]
  },
  {
   "cell_type": "code",
   "execution_count": 71,
   "metadata": {},
   "outputs": [],
   "source": [
    "def poorly_estimate_fundamental(y, sample_rate):\n",
    "    \"\"\"\n",
    "    Like it says on the tin, this method returns a rough estimate of the\n",
    "    fundamental pitch in the given signal over time, along with its stddev.\n",
    "    \"\"\"\n",
    "    pitches, magnitudes = librosa.core.piptrack(\n",
    "        y=y, sr=sample_rate, fmin=10, fmax=1600)\n",
    "    fundamental_over_time = [\n",
    "        pitches[magnitudes[:, t].argmax(), t]\n",
    "        for t in range(pitches.shape[1])\n",
    "    ]\n",
    "\n",
    "    return float(np.amin(fundamental_over_time)), \\\n",
    "        float(np.std(fundamental_over_time))"
   ]
  },
  {
   "cell_type": "code",
   "execution_count": 89,
   "metadata": {},
   "outputs": [],
   "source": [
    "def features_for(file):\n",
    "    # Load and trim the audio file to only the parts that aren't silent.\n",
    "    audio, sample_rate = load_and_trim(file)\n",
    "\n",
    "    features = {\"duration\": librosa.get_duration(audio, sample_rate)}\n",
    "\n",
    "    # Use poorly_estimate_fundamental to figure out what the rough\n",
    "    # pitch is, along with the standard deviation - how much it varies.\n",
    "    fundamental, f_stddev = poorly_estimate_fundamental(audio, sample_rate)\n",
    "\n",
    "    # How loud each low, mid, and high section is\n",
    "    #low_1, low, mid_1, mid, high_1, high_2, high = eq_bands(audio, 11)\n",
    "    low, mid, high = eq_bands(audio, 3)\n",
    "\n",
    "    return {\n",
    "        \"duration\":              librosa.get_duration(y=audio, sr=sample_rate),\n",
    "        \"start_loudness\":        loudness_at(audio, 0),\n",
    "        \"mid_loudness\":          loudness_at(audio, len(audio)/2),\n",
    "        \"end_loudness\":          loudness_at(audio, len(audio)),\n",
    "        \"fundamental_freq\":      fundamental,\n",
    "        \"fundamental_deviation\": f_stddev,\n",
    "        #\"l1\": low_1,#\n",
    "        \"average_eq_low\":        low,\n",
    "        #\"m1\": mid_1,#\n",
    "        \"average_eq_mid\":        mid,\n",
    "        #\"h1\": high_1,#\n",
    "        #\"h2\": high_2,#\n",
    "        \"average_eq_high\":       high,\n",
    "    }"
   ]
  },
  {
   "cell_type": "code",
   "execution_count": 80,
   "metadata": {},
   "outputs": [],
   "source": [
    "def features_for(file):\n",
    "    # Load and trim the audio file to only the portions that aren't silent.\n",
    "    audio, rate = load_and_trim(file)\n",
    "\n",
    "    features = {\"duration\": librosa.get_duration(audio, rate)}\n",
    "\n",
    "    # Let's split up the audio file into chunks\n",
    "    for (i, section) in enumerate(np.array_split(audio, 10)):\n",
    "        # And in each of those chunks:\n",
    "        # ...get the loudness for that chunk\n",
    "        features[\"loudness_%d\" % i] = rms(section)\n",
    "\n",
    "        # Use poorly_estimate_fundamental to figure out\n",
    "        # what the rough pitch is, along with the standard\n",
    "        # deviation - how much that pitch varies.\n",
    "        fundamental, fundamental_stddev = \\\n",
    "            poorly_estimate_fundamental(section, rate)\n",
    "        features[\"fundamental_%d\" % i] = fundamental\n",
    "        features[\"fundamental_stddev_%d\" % i] = fundamental_stddev\n",
    "\n",
    "        # ...make a feature out of each of 25 EQ bands.\n",
    "        for (j, value) in enumerate(eq_bands(section, 99)):\n",
    "            features[\"average_eq_%d_%d\" % (i, j)] = value\n",
    "\n",
    "    return features"
   ]
  },
  {
   "cell_type": "code",
   "execution_count": 90,
   "metadata": {},
   "outputs": [
    {
     "name": "stdout",
     "output_type": "stream",
     "text": [
      "{'duration': 0.16580498866213153, 'start_loudness': 0.22940745949745178, 'mid_loudness': 0.015686701983213425, 'end_loudness': 0.00898020714521408, 'fundamental_freq': 0.0, 'fundamental_deviation': 427.3084411621094, 'average_eq_low': -41.10032653808594, 'average_eq_mid': -36.3490104675293, 'average_eq_high': -38.824615478515625}\n"
     ]
    },
    {
     "name": "stderr",
     "output_type": "stream",
     "text": [
      "/var/folders/wn/fhcj6_9d2qb5d0pw_xw20ky80000gn/T/ipykernel_7046/701583641.py:5: FutureWarning: Pass y=[-0.06037794  0.07216429 -0.01546111 ... -0.00957059 -0.00536065\n",
      "  0.        ], sr=22050 as keyword args. From version 0.10 passing these as positional arguments will result in an error\n",
      "  features = {\"duration\": librosa.get_duration(audio, sample_rate)}\n"
     ]
    }
   ],
   "source": [
    "dit = features_for('/Users/cooky/HDD/Drum/9th Wonder Kit/Hi-Hats/Bld_H1.wav')\n",
    "print(dit)"
   ]
  },
  {
   "cell_type": "code",
   "execution_count": 91,
   "metadata": {},
   "outputs": [
    {
     "name": "stdout",
     "output_type": "stream",
     "text": [
      "{'duration': 0.9683900226757369, 'start_loudness': 0.25362253189086914, 'mid_loudness': 0.0, 'end_loudness': 0.0, 'fundamental_freq': 0.0, 'fundamental_deviation': 170.46881103515625, 'average_eq_low': -55.10514831542969, 'average_eq_mid': -57.82075500488281, 'average_eq_high': -72.56956481933594}\n"
     ]
    },
    {
     "name": "stderr",
     "output_type": "stream",
     "text": [
      "/var/folders/wn/fhcj6_9d2qb5d0pw_xw20ky80000gn/T/ipykernel_7046/701583641.py:5: FutureWarning: Pass y=[ 0.00016099 -0.00020534  0.00470769 ...  0.          0.\n",
      "  0.        ], sr=22050 as keyword args. From version 0.10 passing these as positional arguments will result in an error\n",
      "  features = {\"duration\": librosa.get_duration(audio, sample_rate)}\n"
     ]
    }
   ],
   "source": [
    "dit3 = features_for('/Users/cooky/HDD/Drum/Dilla Drums/Dilla Kk 40.wav')\n",
    "print(dit3)"
   ]
  },
  {
   "cell_type": "code",
   "execution_count": 92,
   "metadata": {},
   "outputs": [
    {
     "name": "stdout",
     "output_type": "stream",
     "text": [
      "{'duration': 0.25065759637188206, 'start_loudness': 0.004940907936543226, 'mid_loudness': 0.0027112506795674562, 'end_loudness': 0.001056976499967277, 'fundamental_freq': 0.0, 'fundamental_deviation': 77.01537322998047, 'average_eq_low': -50.48466491699219, 'average_eq_mid': -51.2275276184082, 'average_eq_high': -56.70635223388672}\n"
     ]
    },
    {
     "name": "stderr",
     "output_type": "stream",
     "text": [
      "/var/folders/wn/fhcj6_9d2qb5d0pw_xw20ky80000gn/T/ipykernel_7046/701583641.py:5: FutureWarning: Pass y=[-0.00607497 -0.009378   -0.0084612  ... -0.00150935 -0.0022387\n",
      "  0.        ], sr=22050 as keyword args. From version 0.10 passing these as positional arguments will result in an error\n",
      "  features = {\"duration\": librosa.get_duration(audio, sample_rate)}\n"
     ]
    }
   ],
   "source": [
    "dit2 = features_for('/Users/cooky/HDD/Drum/Wu-tang mega kit/WU_HH_136.wav')\n",
    "print(dit2)"
   ]
  },
  {
   "cell_type": "code",
   "execution_count": 93,
   "metadata": {},
   "outputs": [
    {
     "name": "stdout",
     "output_type": "stream",
     "text": [
      "{'duration': 0.7100680272108844, 'start_loudness': 0.08242890983819962, 'mid_loudness': 0.00034455748391337693, 'end_loudness': 2.815491461660713e-05, 'fundamental_freq': 0.0, 'fundamental_deviation': 30.81185531616211, 'average_eq_low': -59.33082580566406, 'average_eq_mid': -63.953514099121094, 'average_eq_high': -78.28298950195312}\n"
     ]
    },
    {
     "name": "stderr",
     "output_type": "stream",
     "text": [
      "/var/folders/wn/fhcj6_9d2qb5d0pw_xw20ky80000gn/T/ipykernel_7046/701583641.py:5: FutureWarning: Pass y=[ 2.8306966e-05 -1.0208494e-04  3.1452171e-05 ... -1.0771130e-05\n",
      " -2.0925869e-05 -9.7559823e-06], sr=22050 as keyword args. From version 0.10 passing these as positional arguments will result in an error\n",
      "  features = {\"duration\": librosa.get_duration(audio, sample_rate)}\n"
     ]
    }
   ],
   "source": [
    "dit4 = features_for('/Users/cooky/HDD/Drum/Marco Polo Pad Thai Vol. 1/Kicks/Kick 2 Nostalgia.wav')\n",
    "print(dit4)"
   ]
  },
  {
   "cell_type": "code",
   "execution_count": 94,
   "metadata": {},
   "outputs": [
    {
     "name": "stdout",
     "output_type": "stream",
     "text": [
      "{'duration': 1.207437641723356, 'start_loudness': 1.754942786647007e-05, 'mid_loudness': 0.004058435559272766, 'end_loudness': 2.4684364689164795e-05, 'fundamental_freq': 0.0, 'fundamental_deviation': 96.78923034667969, 'average_eq_low': -59.010093688964844, 'average_eq_mid': -60.77033615112305, 'average_eq_high': -65.80193328857422}\n"
     ]
    },
    {
     "name": "stderr",
     "output_type": "stream",
     "text": [
      "/var/folders/wn/fhcj6_9d2qb5d0pw_xw20ky80000gn/T/ipykernel_7046/701583641.py:5: FutureWarning: Pass y=[ 9.0655058e-06  1.2955057e-05  9.3186336e-06 ... -1.1315885e-05\n",
      " -2.7218310e-05 -4.6448564e-05], sr=22050 as keyword args. From version 0.10 passing these as positional arguments will result in an error\n",
      "  features = {\"duration\": librosa.get_duration(audio, sample_rate)}\n"
     ]
    }
   ],
   "source": [
    "dit5 = features_for('/Users/cooky/HDD/Drum/Marco Polo Pad Thai Vol. 1/Snares and Claps/Snare 2 NOBODY.wav')\n",
    "print(dit5)"
   ]
  },
  {
   "cell_type": "code",
   "execution_count": 95,
   "metadata": {},
   "outputs": [
    {
     "name": "stdout",
     "output_type": "stream",
     "text": [
      "{'duration': 0.22131519274376418, 'start_loudness': 0.32855406403541565, 'mid_loudness': 0.013084937818348408, 'end_loudness': 0.007011371199041605, 'fundamental_freq': 26.677412033081055, 'fundamental_deviation': 142.4845428466797, 'average_eq_low': -37.32543182373047, 'average_eq_mid': -40.599422454833984, 'average_eq_high': -54.00895690917969}\n"
     ]
    },
    {
     "name": "stderr",
     "output_type": "stream",
     "text": [
      "/var/folders/wn/fhcj6_9d2qb5d0pw_xw20ky80000gn/T/ipykernel_7046/701583641.py:5: FutureWarning: Pass y=[-0.00367063 -0.00185261 -0.00378984 ...  0.00950995  0.00612636\n",
      "  0.00620077], sr=22050 as keyword args. From version 0.10 passing these as positional arguments will result in an error\n",
      "  features = {\"duration\": librosa.get_duration(audio, sample_rate)}\n"
     ]
    }
   ],
   "source": [
    "dit6 = features_for('/Users/cooky/HDD/Drum/Dilla Drums/!Snare 185.wav')\n",
    "print(dit6)"
   ]
  },
  {
   "cell_type": "code",
   "execution_count": 96,
   "metadata": {},
   "outputs": [
    {
     "name": "stdout",
     "output_type": "stream",
     "text": [
      "   duration  start_loudness  mid_loudness  end_loudness  fundamental_freq  \\\n",
      "0  0.165805        0.229407      0.015687      0.008980          0.000000   \n",
      "1  0.250658        0.004941      0.002711      0.001057          0.000000   \n",
      "2  0.968390        0.253623      0.000000      0.000000          0.000000   \n",
      "3  0.710068        0.082429      0.000345      0.000028          0.000000   \n",
      "4  1.207438        0.000018      0.004058      0.000025          0.000000   \n",
      "5  0.221315        0.328554      0.013085      0.007011         26.677412   \n",
      "\n",
      "   fundamental_deviation  average_eq_low  average_eq_mid  average_eq_high  \n",
      "0             427.308441      -41.100327      -36.349010       -38.824615  \n",
      "1              77.015373      -50.484665      -51.227528       -56.706352  \n",
      "2             170.468811      -55.105148      -57.820755       -72.569565  \n",
      "3              30.811855      -59.330826      -63.953514       -78.282990  \n",
      "4              96.789230      -59.010094      -60.770336       -65.801933  \n",
      "5             142.484543      -37.325432      -40.599422       -54.008957  \n"
     ]
    }
   ],
   "source": [
    "import pandas as pd\n",
    "\n",
    "dd = [dit, dit2, dit3, dit4, dit5, dit6]\n",
    "\n",
    "d1 = pd.DataFrame.from_dict(dd)\n",
    "\n",
    "print(d1)"
   ]
  },
  {
   "cell_type": "code",
   "execution_count": 88,
   "metadata": {},
   "outputs": [],
   "source": [
    "d1.to_csv('asdf.csv')"
   ]
  },
  {
   "cell_type": "markdown",
   "metadata": {},
   "source": []
  },
  {
   "cell_type": "markdown",
   "metadata": {},
   "source": []
  },
  {
   "cell_type": "code",
   "execution_count": null,
   "metadata": {},
   "outputs": [],
   "source": []
  },
  {
   "cell_type": "code",
   "execution_count": null,
   "metadata": {},
   "outputs": [],
   "source": []
  },
  {
   "cell_type": "code",
   "execution_count": null,
   "metadata": {},
   "outputs": [],
   "source": []
  },
  {
   "cell_type": "code",
   "execution_count": 1,
   "metadata": {},
   "outputs": [],
   "source": [
    "# for macos m1 gpu\n",
    "\n",
    "import tensorflow.compat.v2 as tf\n"
   ]
  },
  {
   "cell_type": "code",
   "execution_count": 28,
   "metadata": {},
   "outputs": [],
   "source": [
    "# for window\n",
    "\n",
    "import tensorflow as tf"
   ]
  },
  {
   "cell_type": "code",
   "execution_count": null,
   "metadata": {},
   "outputs": [],
   "source": [
    "tf.enable_v2_behavior()"
   ]
  },
  {
   "cell_type": "code",
   "execution_count": 24,
   "metadata": {},
   "outputs": [],
   "source": [
    "from tensorflow.python.framework.ops import disable_eager_execution\n",
    "disable_eager_execution()\n"
   ]
  },
  {
   "cell_type": "code",
   "execution_count": 29,
   "metadata": {},
   "outputs": [
    {
     "name": "stdout",
     "output_type": "stream",
     "text": [
      "2.8.0\n"
     ]
    }
   ],
   "source": [
    "print(tf.__version__)"
   ]
  },
  {
   "cell_type": "code",
   "execution_count": null,
   "metadata": {},
   "outputs": [],
   "source": [
    "model.compile(\n",
    "    loss='sparse_categorical_crossentropy',\n",
    "    optimizer=tf.keras.optimizers.Adam(0.001),\n",
    "    metrics=['accuracy'],\n",
    ")"
   ]
  },
  {
   "cell_type": "code",
   "execution_count": null,
   "metadata": {},
   "outputs": [],
   "source": [
    "model.fit(\n",
    "    ds_train,\n",
    "    epochs=12,\n",
    "    validation_data=ds_test,\n",
    ")"
   ]
  },
  {
   "cell_type": "code",
   "execution_count": 4,
   "metadata": {},
   "outputs": [],
   "source": [
    "import cv2\n",
    "\n",
    "img = cv2.imread('/Users/cooky/Documents/GitHub/0220dbtest/img/Hip Hop/3487.jpeg', 0)\n",
    "hist = cv2.calcHist([img],[0],None,[256],[0,256])"
   ]
  },
  {
   "cell_type": "code",
   "execution_count": 5,
   "metadata": {},
   "outputs": [
    {
     "name": "stdout",
     "output_type": "stream",
     "text": [
      "<class 'numpy.ndarray'>\n",
      "[[ 45.]\n",
      " [ 13.]\n",
      " [ 15.]\n",
      " [ 20.]\n",
      " [ 28.]\n",
      " [ 41.]\n",
      " [ 43.]\n",
      " [ 81.]\n",
      " [ 74.]\n",
      " [ 66.]\n",
      " [114.]\n",
      " [282.]\n",
      " [156.]\n",
      " [322.]\n",
      " [148.]\n",
      " [207.]\n",
      " [190.]\n",
      " [217.]\n",
      " [214.]\n",
      " [212.]\n",
      " [178.]\n",
      " [228.]\n",
      " [172.]\n",
      " [204.]\n",
      " [184.]\n",
      " [202.]\n",
      " [167.]\n",
      " [191.]\n",
      " [266.]\n",
      " [233.]\n",
      " [276.]\n",
      " [457.]\n",
      " [262.]\n",
      " [423.]\n",
      " [255.]\n",
      " [244.]\n",
      " [246.]\n",
      " [206.]\n",
      " [252.]\n",
      " [216.]\n",
      " [191.]\n",
      " [189.]\n",
      " [178.]\n",
      " [173.]\n",
      " [196.]\n",
      " [178.]\n",
      " [187.]\n",
      " [131.]\n",
      " [129.]\n",
      " [134.]\n",
      " [139.]\n",
      " [128.]\n",
      " [136.]\n",
      " [132.]\n",
      " [118.]\n",
      " [127.]\n",
      " [128.]\n",
      " [120.]\n",
      " [104.]\n",
      " [ 88.]\n",
      " [ 84.]\n",
      " [ 94.]\n",
      " [ 83.]\n",
      " [ 96.]\n",
      " [ 94.]\n",
      " [ 98.]\n",
      " [ 98.]\n",
      " [ 75.]\n",
      " [ 84.]\n",
      " [ 80.]\n",
      " [ 91.]\n",
      " [ 81.]\n",
      " [ 68.]\n",
      " [ 79.]\n",
      " [ 86.]\n",
      " [ 87.]\n",
      " [ 74.]\n",
      " [ 87.]\n",
      " [116.]\n",
      " [ 77.]\n",
      " [ 80.]\n",
      " [119.]\n",
      " [106.]\n",
      " [ 92.]\n",
      " [ 92.]\n",
      " [ 84.]\n",
      " [106.]\n",
      " [ 90.]\n",
      " [ 88.]\n",
      " [ 96.]\n",
      " [ 88.]\n",
      " [ 75.]\n",
      " [102.]\n",
      " [ 85.]\n",
      " [ 98.]\n",
      " [ 74.]\n",
      " [ 78.]\n",
      " [ 82.]\n",
      " [ 77.]\n",
      " [ 79.]\n",
      " [ 75.]\n",
      " [ 82.]\n",
      " [ 67.]\n",
      " [ 63.]\n",
      " [ 68.]\n",
      " [ 92.]\n",
      " [ 67.]\n",
      " [ 75.]\n",
      " [ 87.]\n",
      " [ 88.]\n",
      " [ 63.]\n",
      " [ 80.]\n",
      " [ 75.]\n",
      " [ 78.]\n",
      " [ 75.]\n",
      " [ 78.]\n",
      " [ 75.]\n",
      " [ 79.]\n",
      " [ 84.]\n",
      " [ 90.]\n",
      " [ 72.]\n",
      " [ 81.]\n",
      " [ 78.]\n",
      " [ 82.]\n",
      " [101.]\n",
      " [ 70.]\n",
      " [ 83.]\n",
      " [ 83.]\n",
      " [117.]\n",
      " [102.]\n",
      " [ 85.]\n",
      " [ 95.]\n",
      " [ 86.]\n",
      " [ 81.]\n",
      " [ 94.]\n",
      " [ 91.]\n",
      " [ 89.]\n",
      " [ 90.]\n",
      " [ 93.]\n",
      " [ 82.]\n",
      " [ 88.]\n",
      " [ 78.]\n",
      " [ 79.]\n",
      " [ 65.]\n",
      " [ 75.]\n",
      " [ 88.]\n",
      " [ 79.]\n",
      " [ 85.]\n",
      " [ 85.]\n",
      " [ 86.]\n",
      " [104.]\n",
      " [ 74.]\n",
      " [ 72.]\n",
      " [ 76.]\n",
      " [ 83.]\n",
      " [ 82.]\n",
      " [ 99.]\n",
      " [ 90.]\n",
      " [103.]\n",
      " [ 93.]\n",
      " [ 95.]\n",
      " [ 86.]\n",
      " [ 98.]\n",
      " [ 83.]\n",
      " [ 79.]\n",
      " [ 95.]\n",
      " [ 86.]\n",
      " [105.]\n",
      " [ 82.]\n",
      " [ 97.]\n",
      " [107.]\n",
      " [105.]\n",
      " [ 81.]\n",
      " [109.]\n",
      " [ 88.]\n",
      " [ 89.]\n",
      " [ 83.]\n",
      " [ 78.]\n",
      " [ 75.]\n",
      " [ 74.]\n",
      " [ 86.]\n",
      " [107.]\n",
      " [ 94.]\n",
      " [113.]\n",
      " [ 70.]\n",
      " [109.]\n",
      " [ 84.]\n",
      " [ 88.]\n",
      " [ 90.]\n",
      " [ 70.]\n",
      " [ 55.]\n",
      " [ 63.]\n",
      " [ 51.]\n",
      " [ 51.]\n",
      " [ 52.]\n",
      " [ 38.]\n",
      " [ 31.]\n",
      " [ 31.]\n",
      " [ 24.]\n",
      " [ 26.]\n",
      " [ 27.]\n",
      " [ 16.]\n",
      " [ 23.]\n",
      " [ 13.]\n",
      " [ 18.]\n",
      " [ 12.]\n",
      " [  6.]\n",
      " [  5.]\n",
      " [  8.]\n",
      " [  5.]\n",
      " [  8.]\n",
      " [  8.]\n",
      " [  1.]\n",
      " [  3.]\n",
      " [  0.]\n",
      " [  0.]\n",
      " [  3.]\n",
      " [  1.]\n",
      " [  2.]\n",
      " [  0.]\n",
      " [  0.]\n",
      " [  1.]\n",
      " [  0.]\n",
      " [  0.]\n",
      " [  1.]\n",
      " [  1.]\n",
      " [  0.]\n",
      " [  0.]\n",
      " [  1.]\n",
      " [  0.]\n",
      " [  0.]\n",
      " [  0.]\n",
      " [  0.]\n",
      " [  0.]\n",
      " [  0.]\n",
      " [  0.]\n",
      " [  0.]\n",
      " [  0.]\n",
      " [  0.]\n",
      " [  0.]\n",
      " [  0.]\n",
      " [  0.]\n",
      " [  0.]\n",
      " [  0.]\n",
      " [  0.]\n",
      " [  0.]\n",
      " [  0.]\n",
      " [  0.]\n",
      " [  0.]\n",
      " [  0.]\n",
      " [  0.]\n",
      " [  0.]\n",
      " [  0.]\n",
      " [  0.]\n",
      " [  0.]\n",
      " [  0.]]\n"
     ]
    }
   ],
   "source": [
    "print(type(hist))\n",
    "\n",
    "print(hist)"
   ]
  },
  {
   "cell_type": "code",
   "execution_count": 6,
   "metadata": {},
   "outputs": [
    {
     "ename": "NameError",
     "evalue": "name 'plt' is not defined",
     "output_type": "error",
     "traceback": [
      "\u001b[0;31m---------------------------------------------------------------------------\u001b[0m",
      "\u001b[0;31mNameError\u001b[0m                                 Traceback (most recent call last)",
      "\u001b[1;32m/Users/cooky/Documents/GitHub/Drum_Classficiation/classify.ipynb Cell 28'\u001b[0m in \u001b[0;36m<cell line: 1>\u001b[0;34m()\u001b[0m\n\u001b[0;32m----> <a href='vscode-notebook-cell:/Users/cooky/Documents/GitHub/Drum_Classficiation/classify.ipynb#ch0000027?line=0'>1</a>\u001b[0m plt\u001b[39m.\u001b[39mhist(img\u001b[39m.\u001b[39mravel(),\u001b[39m256\u001b[39m,[\u001b[39m0\u001b[39m,\u001b[39m256\u001b[39m])\n\u001b[1;32m      <a href='vscode-notebook-cell:/Users/cooky/Documents/GitHub/Drum_Classficiation/classify.ipynb#ch0000027?line=1'>2</a>\u001b[0m plt\u001b[39m.\u001b[39mshow()\n",
      "\u001b[0;31mNameError\u001b[0m: name 'plt' is not defined"
     ]
    }
   ],
   "source": [
    "plt.hist(img.ravel(),256,[0,256])\n",
    "plt.show()"
   ]
  },
  {
   "cell_type": "code",
   "execution_count": 1,
   "metadata": {},
   "outputs": [],
   "source": [
    "import tensorflow as tf\n",
    "import tensorflow_hub as hub\n",
    "#import tensorflow_io as tfio"
   ]
  },
  {
   "cell_type": "code",
   "execution_count": 3,
   "metadata": {},
   "outputs": [],
   "source": [
    "@tf.function\n",
    "def load_mono(file):\n",
    "    file_cont = tf.io.read_file(file)\n",
    "    wav, sr = tf.audio.decode_wav(\n",
    "        file_cont,\n",
    "        desired_channels=1\n",
    "    )\n",
    "    wav = tf.squeeze(wav, axis=-1)\n",
    "    sr = tf.cast(sr, dtype=tf.int64)\n",
    "    # wav = tfio.audio.resample(wav, rate_in=sr, rate_out=16000)\n",
    "    return wav"
   ]
  },
  {
   "cell_type": "code",
   "execution_count": 5,
   "metadata": {},
   "outputs": [],
   "source": [
    "k = load_mono('/Users/cooky/HDD/Drum/Dilla Drums/!Snare 170.wav')"
   ]
  },
  {
   "cell_type": "code",
   "execution_count": 6,
   "metadata": {},
   "outputs": [
    {
     "data": {
      "text/plain": [
       "TensorShape([14135])"
      ]
     },
     "execution_count": 6,
     "metadata": {},
     "output_type": "execute_result"
    }
   ],
   "source": [
    "k.shape"
   ]
  },
  {
   "cell_type": "code",
   "execution_count": null,
   "metadata": {},
   "outputs": [],
   "source": []
  }
 ],
 "metadata": {
  "interpreter": {
   "hash": "36975e2464779a1907498622a1ff8d141cf5663f65c7cf0c02ae689c8b788bad"
  },
  "kernelspec": {
   "display_name": "Python 3.9.12",
   "language": "python",
   "name": "python3"
  },
  "language_info": {
   "codemirror_mode": {
    "name": "ipython",
    "version": 3
   },
   "file_extension": ".py",
   "mimetype": "text/x-python",
   "name": "python",
   "nbconvert_exporter": "python",
   "pygments_lexer": "ipython3",
   "version": "3.9.12"
  },
  "orig_nbformat": 4,
  "vscode": {
   "interpreter": {
    "hash": "36975e2464779a1907498622a1ff8d141cf5663f65c7cf0c02ae689c8b788bad"
   }
  }
 },
 "nbformat": 4,
 "nbformat_minor": 2
}
