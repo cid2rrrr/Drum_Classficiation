{
 "cells": [
  {
   "cell_type": "code",
   "execution_count": null,
   "metadata": {},
   "outputs": [],
   "source": [
    "!pip install librosa\n",
    "#librosa.org\n",
    "\n",
    "!pip install audio_utils"
   ]
  },
  {
   "cell_type": "code",
   "execution_count": 3,
   "metadata": {},
   "outputs": [
    {
     "data": {
      "text/plain": [
       "<matplotlib.colorbar.Colorbar at 0x167f7d190>"
      ]
     },
     "execution_count": 3,
     "metadata": {},
     "output_type": "execute_result"
    },
    {
     "data": {
      "image/png": "[encoded data removed]",
      "text/plain": [
       "<Figure size 432x288 with 2 Axes>"
      ]
     },
     "metadata": {
      "needs_background": "light"
     },
     "output_type": "display_data"
    }
   ],
   "source": [
    "import librosa\n",
    "import librosa.display\n",
    "\n",
    "import numpy as np\n",
    "import matplotlib.pyplot as plt\n",
    "\n",
    "#filename = librosa.example('nutcracker')\n",
    "\n",
    "y, sr = librosa.load('/Users/cooky/HDD/Drum/9th Wonder Kit/Hi-Hats/Bld_H1.wav')\n",
    "\n",
    "tempo, beat_frame = librosa.beat.beat_track(y=y, sr=sr)\n",
    "\n",
    "D = librosa.stft(y)  # STFT of y\n",
    "S_db = librosa.amplitude_to_db(np.abs(D), ref=np.max)\n",
    "\n",
    "plt.figure()\n",
    "librosa.display.specshow(S_db)\n",
    "plt.colorbar()\n"
   ]
  },
  {
   "cell_type": "code",
   "execution_count": 8,
   "metadata": {},
   "outputs": [
    {
     "ename": "ImportError",
     "evalue": "cannot import name 'trim_data' from 'audio_utils' (/opt/homebrew/Caskroom/miniforge/base/envs/cookyflow/lib/python3.9/site-packages/audio_utils/__init__.py)",
     "output_type": "error",
     "traceback": [
      "\u001b[0;31m---------------------------------------------------------------------------\u001b[0m",
      "\u001b[0;31mImportError\u001b[0m                               Traceback (most recent call last)",
      "\u001b[0;32m/var/folders/wn/fhcj6_9d2qb5d0pw_xw20ky80000gn/T/ipykernel_2841/1483587392.py\u001b[0m in \u001b[0;36m<module>\u001b[0;34m\u001b[0m\n\u001b[0;32m----> 1\u001b[0;31m \u001b[0;32mfrom\u001b[0m \u001b[0maudio_utils\u001b[0m \u001b[0;32mimport\u001b[0m \u001b[0mtrim_data\u001b[0m\u001b[0;34m,\u001b[0m \u001b[0mloudness_at\u001b[0m\u001b[0;34m,\u001b[0m \u001b[0mloudness_of\u001b[0m\u001b[0;34m\u001b[0m\u001b[0;34m\u001b[0m\u001b[0m\n\u001b[0m\u001b[1;32m      2\u001b[0m \u001b[0;34m\u001b[0m\u001b[0m\n\u001b[1;32m      3\u001b[0m \u001b[0;32mdef\u001b[0m \u001b[0mload_and_trim\u001b[0m\u001b[0;34m(\u001b[0m\u001b[0mfile\u001b[0m\u001b[0;34m)\u001b[0m\u001b[0;34m:\u001b[0m\u001b[0;34m\u001b[0m\u001b[0;34m\u001b[0m\u001b[0m\n\u001b[1;32m      4\u001b[0m     \u001b[0my\u001b[0m\u001b[0;34m,\u001b[0m \u001b[0mrate\u001b[0m \u001b[0;34m=\u001b[0m \u001b[0mlibrosa\u001b[0m\u001b[0;34m.\u001b[0m\u001b[0mload\u001b[0m\u001b[0;34m(\u001b[0m\u001b[0mfile\u001b[0m\u001b[0;34m,\u001b[0m \u001b[0mmono\u001b[0m\u001b[0;34m=\u001b[0m\u001b[0;32mTrue\u001b[0m\u001b[0;34m)\u001b[0m\u001b[0;34m\u001b[0m\u001b[0;34m\u001b[0m\u001b[0m\n\u001b[1;32m      5\u001b[0m \u001b[0;34m\u001b[0m\u001b[0m\n",
      "\u001b[0;31mImportError\u001b[0m: cannot import name 'trim_data' from 'audio_utils' (/opt/homebrew/Caskroom/miniforge/base/envs/cookyflow/lib/python3.9/site-packages/audio_utils/__init__.py)"
     ]
    }
   ],
   "source": [
    "from audio_utils import normalized, trim_data, loudness_at, loudness_of\n",
    "\n",
    "def load_and_trim(file):\n",
    "    y, rate = librosa.load(file, mono=True)\n",
    "    "
   ]
  },
  {
   "cell_type": "code",
   "execution_count": 5,
   "metadata": {},
   "outputs": [],
   "source": [
    "def features_for(file):\n",
    "    # Load and trim the audio file to only the parts that aren't silent.\n",
    "    audio, rate = load_and_trim(file)\n",
    "\n",
    "    # Use poorly_estimate_fundamental to figure out what the rough\n",
    "    # pitch is, along with the standard deviation - how much it varies.\n",
    "    fundamental, f_stddev = poorly_estimate_fundamental(audio, rate)\n",
    "\n",
    "    # Like an equalizer, find out how loud each \"frequency band\" is.\n",
    "    # In this case, we're just splitting up the audio spectrum into\n",
    "    # three very wide sections, low, mid, and high.\n",
    "    low, mid, high = average_eq_bands(audio, 3)\n",
    "\n",
    "    return {\n",
    "        \"duration\":              librosa.get_duration(audio, rate),\n",
    "        \"start_loudness\":        loudness_at(audio, 0),\n",
    "        \"mid_loudness\":          loudness_at(audio, len(audio) / 2),\n",
    "        \"end_loudness\":          loudness_at(audio, len(audio)),\n",
    "        \"fundamental_freq\":      fundamental,\n",
    "        \"fundamental_deviation\": f_stddev,\n",
    "        \"average_eq_low\":        low,\n",
    "        \"average_eq_mid\":        mid,\n",
    "        \"average_eq_high\":       high,\n",
    "    }"
   ]
  },
  {
   "cell_type": "code",
   "execution_count": null,
   "metadata": {},
   "outputs": [],
   "source": []
  }
 ],
 "metadata": {
  "interpreter": {
   "hash": "6f8a20b05ec2491130b4ea21d01670d419f0cf2eec4788e2e28d4b648b8aa4e9"
  },
  "kernelspec": {
   "display_name": "Python 3.9.9 ('cookyflow')",
   "language": "python",
   "name": "python3"
  },
  "language_info": {
   "codemirror_mode": {
    "name": "ipython",
    "version": 3
   },
   "file_extension": ".py",
   "mimetype": "text/x-python",
   "name": "python",
   "nbconvert_exporter": "python",
   "pygments_lexer": "ipython3",
   "version": "3.9.9"
  },
  "orig_nbformat": 4
 },
 "nbformat": 4,
 "nbformat_minor": 2
}
