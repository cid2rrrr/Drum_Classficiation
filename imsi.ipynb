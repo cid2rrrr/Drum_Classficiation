{
 "cells": [
  {
   "cell_type": "code",
   "execution_count": 235,
   "metadata": {},
   "outputs": [],
   "source": [
    "import numpy as np\n",
    "\n",
    "def resize_axis(array, N):\n",
    "    if(array.shape[1] > N):\n",
    "        resized = array[:,:N]\n",
    "    else:\n",
    "        resized = np.lib.pad(array, ((0,0),(0,N - array.shape[1])),\\\n",
    "            'constant', constant_values=(np.min(array)))\n",
    "    return resized\n",
    "        "
   ]
  },
  {
   "cell_type": "code",
   "execution_count": null,
   "metadata": {},
   "outputs": [],
   "source": [
    "DEFAULT_SR = 22050"
   ]
  },
  {
   "cell_type": "code",
   "execution_count": 243,
   "metadata": {},
   "outputs": [
    {
     "name": "stdout",
     "output_type": "stream",
     "text": [
      "[-5.4911841e-03 -4.9274914e-02 -1.0973954e-01 ... -8.8382731e-05\n",
      " -1.7606540e-04 -1.9179628e-04]\n",
      "(1025, 8)\n"
     ]
    },
    {
     "name": "stderr",
     "output_type": "stream",
     "text": [
      "/Users/cooky/miniforge3/lib/python3.9/site-packages/librosa/util/decorators.py:88: UserWarning: Trying to display complex-valued input. Showing magnitude instead.\n",
      "  return f(*args, **kwargs)\n"
     ]
    },
    {
     "data": {
      "text/plain": [
       "<matplotlib.colorbar.Colorbar at 0x17cbf78b0>"
      ]
     },
     "execution_count": 243,
     "metadata": {},
     "output_type": "execute_result"
    },
    {
     "data": {
      "image/png": "[encoded data removed]",
      "text/plain": [
       "<Figure size 432x288 with 2 Axes>"
      ]
     },
     "metadata": {
      "needs_background": "light"
     },
     "output_type": "display_data"
    }
   ],
   "source": [
    "import librosa\n",
    "import librosa.display\n",
    "\n",
    "import numpy as np\n",
    "import matplotlib.pyplot as plt\n",
    "\n",
    "# from past.utils import old_div\n",
    "\n",
    "#y, sr = librosa.load(\"D:\\Drum\\HiHat\\hat 2 SMOKE.wav\")\n",
    "#y, sr = librosa.load(\"D:\\Drum\\HiHat\\!Hat 39.wav\")\n",
    "y, sr = librosa.load('/Users/cooky/HDD/Drum/Dilla Drums/!Snare 180.wav')\n",
    "#y, sr = librosa.load('/Users/cooky/HDD/Drum/illmind blap kit 7/KICK_FUELO.wav')\n",
    "\n",
    "#print(y.shape)\n",
    "\n",
    "yt, index = librosa.effects.trim(y=y, top_db=30)\n",
    "\n",
    "\n",
    "\n",
    "yt = librosa.util.normalize(yt)\n",
    "\n",
    "print(yt)\n",
    "\n",
    "D = librosa.stft(yt)  # STFT of y\n",
    "\n",
    "# print(D.shape)\n",
    "\n",
    "mel = librosa.feature.melspectrogram(\n",
    "        S=D, sr=DEFAULT_SR,\n",
    "        hop_length=1024, n_mels=128)\n",
    "\n",
    "\n",
    "S_db = librosa.amplitude_to_db(np.abs(D), ref=np.max)\n",
    "\n",
    "#resized_S_db = resize_axis(S_db)\n",
    "\n",
    "print(S_db.shape)\n",
    "\n",
    "plt.figure()\n",
    "librosa.display.specshow(mel)\n",
    "plt.colorbar()"
   ]
  },
  {
   "cell_type": "code",
   "execution_count": 197,
   "metadata": {},
   "outputs": [
    {
     "data": {
      "text/plain": [
       "(1025, 23)"
      ]
     },
     "execution_count": 197,
     "metadata": {},
     "output_type": "execute_result"
    }
   ],
   "source": [
    "S_db.shape"
   ]
  },
  {
   "cell_type": "code",
   "execution_count": 155,
   "metadata": {},
   "outputs": [],
   "source": [
    "def trim(raw_audio, sr):\n",
    "    '''\n",
    "    Finds the first onset of the sound, returns a good start time and end time that isolates the sound\n",
    "    :param raw_audio: np array of audio data, from librosa.load\n",
    "    :param sr: sample rate\n",
    "    :return: dict with 'start' and 'end', in seconds\n",
    "    '''\n",
    "    start = 0.0\n",
    "    end = None\n",
    "\n",
    "    # Add an empty second so that the beginning onset is recognized\n",
    "    silence_to_add = 1.0\n",
    "    raw_audio = np.append(np.zeros(int(silence_to_add * sr)), raw_audio)\n",
    "\n",
    "    # Spectral flux\n",
    "    hop_length = int(librosa.time_to_samples(1. / 200, sr=sr))\n",
    "    onsets = librosa.onset.onset_detect(y=raw_audio, sr=sr, hop_length=hop_length, units='time')\n",
    "\n",
    "    if len(onsets) == 0:\n",
    "        return {'start': start, 'end': end}\n",
    "    elif len(onsets) > 1:\n",
    "        # If there are multiple onsets, cut it off just before the second one\n",
    "        end = onsets[1] - (silence_to_add + 0.01)\n",
    "\n",
    "    start = max(onsets[0] - (silence_to_add + 0.01), 0.0)\n",
    "    return {'start': start, 'end': end}"
   ]
  },
  {
   "cell_type": "code",
   "execution_count": 156,
   "metadata": {},
   "outputs": [
    {
     "data": {
      "text/plain": [
       "{'start': 0.01267573696145119, 'end': None}"
      ]
     },
     "execution_count": 156,
     "metadata": {},
     "output_type": "execute_result"
    }
   ],
   "source": [
    "trim(y, sr)"
   ]
  },
  {
   "cell_type": "code",
   "execution_count": 157,
   "metadata": {},
   "outputs": [],
   "source": [
    "CNN_INPUT_SIZE = (128, 256)\n",
    "DEFAULT_SR = 22050"
   ]
  },
  {
   "cell_type": "code",
   "execution_count": 233,
   "metadata": {},
   "outputs": [],
   "source": [
    "def extract_cnn_input(raw_audio):\n",
    "    frame_length = min(2048, len(raw_audio))\n",
    "    print('rawaudio', frame_length)\n",
    "    mel_spec = librosa.core.power_to_db(librosa.feature.melspectrogram(\n",
    "        y=raw_audio, sr=DEFAULT_SR, n_fft=frame_length,\n",
    "        hop_length=frame_length//4, n_mels=CNN_INPUT_SIZE[0])\n",
    "    )\n",
    "    # Truncate number of frames stored\n",
    "    m = min(CNN_INPUT_SIZE[1], mel_spec.shape[1])\n",
    "    return mel_spec[:, 0:m]"
   ]
  },
  {
   "cell_type": "code",
   "execution_count": 206,
   "metadata": {},
   "outputs": [
    {
     "data": {
      "text/plain": [
       "205"
      ]
     },
     "execution_count": 206,
     "metadata": {},
     "output_type": "execute_result"
    }
   ],
   "source": [
    "1025//5"
   ]
  },
  {
   "cell_type": "code",
   "execution_count": 198,
   "metadata": {},
   "outputs": [
    {
     "name": "stdout",
     "output_type": "stream",
     "text": [
      "rawaudio 1025\n"
     ]
    },
    {
     "name": "stderr",
     "output_type": "stream",
     "text": [
      "/Users/cooky/miniforge3/lib/python3.9/site-packages/librosa/util/decorators.py:88: UserWarning: n_fft=1025 is too small for input signal of length=23\n",
      "  return f(*args, **kwargs)\n"
     ]
    }
   ],
   "source": [
    "a = extract_cnn_input(S_db)"
   ]
  },
  {
   "cell_type": "code",
   "execution_count": 160,
   "metadata": {},
   "outputs": [
    {
     "data": {
      "text/plain": [
       "(1025, 128, 1)"
      ]
     },
     "execution_count": 160,
     "metadata": {},
     "output_type": "execute_result"
    }
   ],
   "source": [
    "a.shape"
   ]
  },
  {
   "cell_type": "code",
   "execution_count": 161,
   "metadata": {},
   "outputs": [],
   "source": [
    "def init_based(a,N):\n",
    "    b = np.zeros((a.shape[0], N))\n",
    "    b[:, :a.shape[1]] = a\n",
    "    return b"
   ]
  },
  {
   "cell_type": "code",
   "execution_count": 162,
   "metadata": {},
   "outputs": [],
   "source": [
    "N = 20\n",
    "aa = np.lib.pad(S_db, ((0,0),(0,N)), 'constant', constant_values=(-80))"
   ]
  },
  {
   "cell_type": "code",
   "execution_count": 163,
   "metadata": {},
   "outputs": [
    {
     "data": {
      "text/plain": [
       "<matplotlib.colorbar.Colorbar at 0x2820eb6d0>"
      ]
     },
     "execution_count": 163,
     "metadata": {},
     "output_type": "execute_result"
    },
    {
     "data": {
      "image/png": "[encoded data removed]",
      "text/plain": [
       "<Figure size 432x288 with 2 Axes>"
      ]
     },
     "metadata": {
      "needs_background": "light"
     },
     "output_type": "display_data"
    }
   ],
   "source": [
    "#D = librosa.stft(a)  # STFT of y\n",
    "#S_db = librosa.amplitude_to_db(np.abs(D), ref=np.max)\n",
    "\n",
    "plt.figure()\n",
    "librosa.display.specshow(S_db)\n",
    "plt.colorbar()"
   ]
  },
  {
   "cell_type": "code",
   "execution_count": 164,
   "metadata": {},
   "outputs": [
    {
     "data": {
      "text/plain": [
       "(1025, 43)"
      ]
     },
     "execution_count": 164,
     "metadata": {},
     "output_type": "execute_result"
    }
   ],
   "source": [
    "aa.shape"
   ]
  },
  {
   "cell_type": "code",
   "execution_count": 207,
   "metadata": {},
   "outputs": [
    {
     "data": {
      "text/plain": [
       "<matplotlib.colorbar.Colorbar at 0x282962370>"
      ]
     },
     "execution_count": 207,
     "metadata": {},
     "output_type": "execute_result"
    },
    {
     "data": {
      "image/png": "[encoded data removed]",
      "text/plain": [
       "<Figure size 432x288 with 2 Axes>"
      ]
     },
     "metadata": {
      "needs_background": "light"
     },
     "output_type": "display_data"
    }
   ],
   "source": [
    "plt.figure()\n",
    "librosa.display.specshow(aa)\n",
    "plt.colorbar()"
   ]
  },
  {
   "cell_type": "code",
   "execution_count": 166,
   "metadata": {},
   "outputs": [],
   "source": [
    "import torch\n",
    "from torch import nn\n",
    "import torch.nn.functional as F"
   ]
  },
  {
   "cell_type": "code",
   "execution_count": 37,
   "metadata": {},
   "outputs": [],
   "source": [
    "DATASET_MEAN = -22.72945807\n",
    "DATASET_STD = 13.65106709"
   ]
  },
  {
   "cell_type": "code",
   "execution_count": 250,
   "metadata": {},
   "outputs": [],
   "source": [
    "def extract_cnn_input(raw_audio):\n",
    "    frame_length = min(2048, len(raw_audio))\n",
    "    mel_spec = librosa.core.power_to_db(librosa.feature.melspectrogram(\n",
    "        y=raw_audio, sr=DEFAULT_SR, n_fft=frame_length,\n",
    "        hop_length=frame_length//4, n_mels=CNN_INPUT_SIZE[0])\n",
    "    )\n",
    "    # Truncate number of frames stored\n",
    "    m = min(CNN_INPUT_SIZE[1], mel_spec.shape[1])\n",
    "    print(mel_spec.shape[1])\n",
    "    N =20\n",
    "    mell = resize_axis(mel_spec[:, 0:m], N)\n",
    "    return mell"
   ]
  },
  {
   "cell_type": "code",
   "execution_count": 251,
   "metadata": {},
   "outputs": [
    {
     "name": "stdout",
     "output_type": "stream",
     "text": [
      "13\n",
      "8\n"
     ]
    }
   ],
   "source": [
    "k = extract_cnn_input(y)\n",
    "kk = extract_cnn_input(yt)\n",
    "#kkk = extract_cnn_input(S_db)"
   ]
  },
  {
   "cell_type": "code",
   "execution_count": 252,
   "metadata": {},
   "outputs": [
    {
     "data": {
      "text/plain": [
       "256"
      ]
     },
     "execution_count": 252,
     "metadata": {},
     "output_type": "execute_result"
    }
   ],
   "source": [
    "CNN_INPUT_SIZE[1]"
   ]
  },
  {
   "cell_type": "code",
   "execution_count": 253,
   "metadata": {},
   "outputs": [
    {
     "data": {
      "text/plain": [
       "(128, 20)"
      ]
     },
     "execution_count": 253,
     "metadata": {},
     "output_type": "execute_result"
    }
   ],
   "source": [
    "k.shape"
   ]
  },
  {
   "cell_type": "code",
   "execution_count": 254,
   "metadata": {},
   "outputs": [
    {
     "data": {
      "text/plain": [
       "(128, 20)"
      ]
     },
     "execution_count": 254,
     "metadata": {},
     "output_type": "execute_result"
    }
   ],
   "source": [
    "kk.shape"
   ]
  },
  {
   "cell_type": "code",
   "execution_count": 255,
   "metadata": {},
   "outputs": [
    {
     "data": {
      "text/plain": [
       "(1025, 128, 1)"
      ]
     },
     "execution_count": 255,
     "metadata": {},
     "output_type": "execute_result"
    }
   ],
   "source": [
    "kkk.shape"
   ]
  },
  {
   "cell_type": "code",
   "execution_count": 256,
   "metadata": {},
   "outputs": [
    {
     "data": {
      "text/plain": [
       "<matplotlib.colorbar.Colorbar at 0x17cd1ec10>"
      ]
     },
     "execution_count": 256,
     "metadata": {},
     "output_type": "execute_result"
    },
    {
     "data": {
      "image/png": "[encoded data removed]",
      "text/plain": [
       "<Figure size 432x288 with 2 Axes>"
      ]
     },
     "metadata": {
      "needs_background": "light"
     },
     "output_type": "display_data"
    }
   ],
   "source": [
    "plt.figure()\n",
    "librosa.display.specshow(k)\n",
    "plt.colorbar()"
   ]
  },
  {
   "cell_type": "code",
   "execution_count": null,
   "metadata": {},
   "outputs": [],
   "source": []
  }
 ],
 "metadata": {
  "kernelspec": {
   "display_name": "Python 3.9.10 ('base')",
   "language": "python",
   "name": "python3"
  },
  "language_info": {
   "codemirror_mode": {
    "name": "ipython",
    "version": 3
   },
   "file_extension": ".py",
   "mimetype": "text/x-python",
   "name": "python",
   "nbconvert_exporter": "python",
   "pygments_lexer": "ipython3",
   "version": "3.9.10"
  },
  "orig_nbformat": 4,
  "vscode": {
   "interpreter": {
    "hash": "36975e2464779a1907498622a1ff8d141cf5663f65c7cf0c02ae689c8b788bad"
   }
  }
 },
 "nbformat": 4,
 "nbformat_minor": 2
}
