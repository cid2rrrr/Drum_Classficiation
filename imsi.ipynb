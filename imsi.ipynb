{
 "cells": [
  {
   "cell_type": "code",
   "execution_count": 29,
   "metadata": {},
   "outputs": [
    {
     "data": {
      "text/plain": [
       "<matplotlib.colorbar.Colorbar at 0x19721929910>"
      ]
     },
     "execution_count": 29,
     "metadata": {},
     "output_type": "execute_result"
    },
    {
     "data": {
      "image/png": "[encoded data removed]",
      "text/plain": [
       "<Figure size 432x288 with 2 Axes>"
      ]
     },
     "metadata": {
      "needs_background": "light"
     },
     "output_type": "display_data"
    }
   ],
   "source": [
    "import librosa\n",
    "import librosa.display\n",
    "\n",
    "import numpy as np\n",
    "import matplotlib.pyplot as plt\n",
    "\n",
    "# from past.utils import old_div\n",
    "\n",
    "y, sr = librosa.load(\"D:\\Drum\\HiHat\\hat 2 SMOKE.wav\")\n",
    "#y, sr = librosa.load(\"D:\\Drum\\HiHat\\!Hat 39.wav\")\n",
    "\n",
    "yt, index = librosa.effects.trim(y=y, top_db=30)\n",
    "\n",
    "yt = librosa.util.normalize(yt)\n",
    "\n",
    "D = librosa.stft(yt)  # STFT of y\n",
    "S_db = librosa.amplitude_to_db(np.abs(D), ref=np.max)\n",
    "\n",
    "plt.figure()\n",
    "librosa.display.specshow(S_db)\n",
    "plt.colorbar()"
   ]
  },
  {
   "cell_type": "code",
   "execution_count": 30,
   "metadata": {},
   "outputs": [
    {
     "data": {
      "text/plain": [
       "(1025, 11)"
      ]
     },
     "execution_count": 30,
     "metadata": {},
     "output_type": "execute_result"
    }
   ],
   "source": [
    "S_db.shape"
   ]
  },
  {
   "cell_type": "code",
   "execution_count": 25,
   "metadata": {},
   "outputs": [],
   "source": [
    "def trim(raw_audio, sr):\n",
    "    '''\n",
    "    Finds the first onset of the sound, returns a good start time and end time that isolates the sound\n",
    "    :param raw_audio: np array of audio data, from librosa.load\n",
    "    :param sr: sample rate\n",
    "    :return: dict with 'start' and 'end', in seconds\n",
    "    '''\n",
    "    start = 0.0\n",
    "    end = None\n",
    "\n",
    "    # Add an empty second so that the beginning onset is recognized\n",
    "    silence_to_add = 1.0\n",
    "    raw_audio = np.append(np.zeros(int(silence_to_add * sr)), raw_audio)\n",
    "\n",
    "    # Spectral flux\n",
    "    hop_length = int(librosa.time_to_samples(1. / 200, sr=sr))\n",
    "    onsets = librosa.onset.onset_detect(y=raw_audio, sr=sr, hop_length=hop_length, units='time')\n",
    "\n",
    "    if len(onsets) == 0:\n",
    "        return {'start': start, 'end': end}\n",
    "    elif len(onsets) > 1:\n",
    "        # If there are multiple onsets, cut it off just before the second one\n",
    "        end = onsets[1] - (silence_to_add + 0.01)\n",
    "\n",
    "    start = max(onsets[0] - (silence_to_add + 0.01), 0.0)\n",
    "    return {'start': start, 'end': end}"
   ]
  },
  {
   "cell_type": "code",
   "execution_count": 28,
   "metadata": {},
   "outputs": [
    {
     "data": {
      "text/plain": [
       "{'start': 0.027641723356009118, 'end': None}"
      ]
     },
     "execution_count": 28,
     "metadata": {},
     "output_type": "execute_result"
    }
   ],
   "source": [
    "trim(y, sr)"
   ]
  },
  {
   "cell_type": "code",
   "execution_count": null,
   "metadata": {},
   "outputs": [],
   "source": []
  }
 ],
 "metadata": {
  "interpreter": {
   "hash": "9cda7dce2d78f3c21f6a73de63970ac35274352b7a0f13225446d99cae259cfd"
  },
  "kernelspec": {
   "display_name": "Python 3.9.7 ('base')",
   "language": "python",
   "name": "python3"
  },
  "language_info": {
   "codemirror_mode": {
    "name": "ipython",
    "version": 3
   },
   "file_extension": ".py",
   "mimetype": "text/x-python",
   "name": "python",
   "nbconvert_exporter": "python",
   "pygments_lexer": "ipython3",
   "version": "3.9.7"
  },
  "orig_nbformat": 4
 },
 "nbformat": 4,
 "nbformat_minor": 2
}
