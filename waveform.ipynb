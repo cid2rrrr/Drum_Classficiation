{
 "cells": [
  {
   "cell_type": "code",
   "execution_count": 1,
   "metadata": {},
   "outputs": [],
   "source": [
    "import os\n",
    "\n",
    "from IPython import display\n",
    "import matplotlib.pyplot as plt\n",
    "import numpy as np\n",
    "import pandas as pd\n",
    "\n",
    "import tensorflow as tf\n",
    "\n",
    "import librosa"
   ]
  },
  {
   "cell_type": "code",
   "execution_count": 2,
   "metadata": {},
   "outputs": [],
   "source": [
    "def onehot(str):\n",
    "    path = './Drum'\n",
    "    kits = os.listdir(path)\n",
    "    #kits.remove('.DS_Store')\n",
    "    \n",
    "    oh = []\n",
    "\n",
    "    for kit in kits:\n",
    "        if str == kit:\n",
    "            oh.append(1)\n",
    "        else:\n",
    "            oh.append(0)\n",
    "    \n",
    "    return np.array(oh)"
   ]
  },
  {
   "cell_type": "code",
   "execution_count": 3,
   "metadata": {},
   "outputs": [],
   "source": [
    "def make4096(wav):\n",
    "    while len(wav) < 4096:\n",
    "        wav = np.append(wav, np.array([0]))\n",
    "    return wav[:4096]\n",
    "            "
   ]
  },
  {
   "cell_type": "markdown",
   "metadata": {},
   "source": [
    "---"
   ]
  },
  {
   "cell_type": "code",
   "execution_count": 4,
   "metadata": {},
   "outputs": [],
   "source": [
    "#path = 'Drum\\Snare\\9th Snare 38.wav'\n",
    "\n",
    "y_label = None\n",
    "x_label = None\n",
    "\n",
    "drumkit_path = './Drum'\n",
    "kits = os.listdir(drumkit_path)\n",
    "n=0\n",
    "\n",
    "for kit in kits:\n",
    "    path = os.path.join(drumkit_path, kit)\n",
    "    sounds = os.listdir(path)\n",
    "    \n",
    "    for sound in sounds:\n",
    "        wavfile = os.path.join(path, sound)\n",
    "        y, sr = librosa.load(wavfile)\n",
    "        yt, index = librosa.effects.trim(y=y, top_db=30)\n",
    "        y_16k = librosa.resample(yt, orig_sr=sr, target_sr=16000)\n",
    "        #yt16k = librosa.util.normalize(y_16k)\n",
    "        n += len(y_16k)\n",
    "        yt16k = make4096(y_16k)\n",
    "        yt16k = np.expand_dims(yt16k, axis=0)\n",
    "        \n",
    "        typ = onehot(kit)\n",
    "        typ = np.expand_dims(typ, axis=0)\n",
    "        \n",
    "        if x_label is None:\n",
    "            x_label = yt16k.copy()\n",
    "            y_label = typ.copy()\n",
    "        else:\n",
    "            x_label = np.concatenate((x_label, yt16k), axis=0)\n",
    "            y_label = np.concatenate((y_label, typ), axis=0)\n",
    "        \n",
    "        "
   ]
  },
  {
   "cell_type": "code",
   "execution_count": 5,
   "metadata": {},
   "outputs": [],
   "source": [
    "from sklearn.model_selection import train_test_split\n",
    "\n",
    "x_train, x_test, y_train, y_test = train_test_split(x_label, y_label, test_size=0.2)"
   ]
  },
  {
   "cell_type": "code",
   "execution_count": 6,
   "metadata": {},
   "outputs": [],
   "source": [
    "yy_test = np.argmax(y_test, axis = 1)\n",
    "yy_train = np.argmax(y_train, axis = 1)"
   ]
  },
  {
   "cell_type": "markdown",
   "metadata": {},
   "source": [
    "---"
   ]
  },
  {
   "cell_type": "code",
   "execution_count": 7,
   "metadata": {},
   "outputs": [],
   "source": [
    "model = tf.keras.Sequential([\n",
    "    tf.keras.layers.Input(shape=(4096), dtype=tf.float32,),\n",
    "    tf.keras.layers.Dense(1024, activation='relu'),\n",
    "    tf.keras.layers.Dense(7)\n",
    "    ])"
   ]
  },
  {
   "cell_type": "code",
   "execution_count": 8,
   "metadata": {},
   "outputs": [],
   "source": [
    "model.compile(optimizer='adam',\n",
    "              loss=tf.keras.losses.SparseCategoricalCrossentropy(from_logits=True),\n",
    "              metrics=['accuracy'])\n",
    "\n",
    "history = model.fit(x_train, yy_train, epochs=20, validation_split=0.2, verbose = 0)"
   ]
  },
  {
   "cell_type": "code",
   "execution_count": 9,
   "metadata": {},
   "outputs": [
    {
     "data": {
      "image/png": "[encoded data removed]",
      "text/plain": [
       "<Figure size 432x288 with 2 Axes>"
      ]
     },
     "metadata": {
      "needs_background": "light"
     },
     "output_type": "display_data"
    }
   ],
   "source": [
    "import matplotlib.pyplot as plt\n",
    "\n",
    "# Plot the loss and accurac curves for training and validation\n",
    "\n",
    "fig, ax = plt.subplots(2, 1)\n",
    "ax[0].plot(history.history['loss'], color = 'b', label = \"Training loss\")\n",
    "ax[0].plot(history.history['val_loss'], color='r', label = \"validation loss\", axes = ax[0])\n",
    "legend = ax[0].legend(loc='best', shadow = True)\n",
    "\n",
    "ax[1].plot(history.history['accuracy'], color = 'b', label = \"Training accuracy\")\n",
    "ax[1].plot(history.history['val_accuracy'], color = 'r', label = \"Validation accuracy\")\n",
    "legend = ax[1].legend(loc = 'best', shadow = True)"
   ]
  },
  {
   "cell_type": "code",
   "execution_count": 10,
   "metadata": {},
   "outputs": [],
   "source": [
    "y_pred =model.predict(x_test)\n",
    "ypred = np.argmax(y_pred,axis=1)"
   ]
  },
  {
   "cell_type": "code",
   "execution_count": 11,
   "metadata": {},
   "outputs": [
    {
     "data": {
      "text/plain": [
       "<AxesSubplot:>"
      ]
     },
     "execution_count": 11,
     "metadata": {},
     "output_type": "execute_result"
    },
    {
     "data": {
      "image/png": "[encoded data removed]",
      "text/plain": [
       "<Figure size 432x288 with 2 Axes>"
      ]
     },
     "metadata": {
      "needs_background": "light"
     },
     "output_type": "display_data"
    }
   ],
   "source": [
    "from sklearn.metrics import confusion_matrix\n",
    "import pandas as pd\n",
    "import seaborn as sns\n",
    "\n",
    "classes = ['Conga&Bongo', 'Crash&OpenHat', 'Hi-Hat', 'Kick', 'Shaker', 'Snare', 'Tom']\n",
    "\n",
    "cm = pd.DataFrame(confusion_matrix(yy_test, ypred), columns=classes, index=classes)\n",
    "sns.heatmap(cm, annot=True)"
   ]
  },
  {
   "cell_type": "markdown",
   "metadata": {},
   "source": [
    "Making a better Model"
   ]
  },
  {
   "cell_type": "code",
   "execution_count": 12,
   "metadata": {},
   "outputs": [],
   "source": [
    "from tensorflow import keras\n",
    "from sklearn.model_selection import RandomizedSearchCV\n",
    "\n",
    "def build_model(n_hidden=1, n_neurons=30, learning_rate=3e-3, input_shape=[4096]):\n",
    "    model = keras.models.Sequential()\n",
    "    model.add(keras.layers.InputLayer(input_shape=input_shape))\n",
    "    for layer in range(n_hidden):\n",
    "        model.add(keras.layers.Dense(n_neurons, activation=\"relu\"))\n",
    "    model.add(keras.layers.Dense(7, activation='softmax'))\n",
    "    optimizer = keras.optimizers.SGD(learning_rate=learning_rate)\n",
    "    model.compile(loss='sparse_categorical_crossentropy', optimizer=optimizer, metrics=['accuracy'])\n",
    "    return model"
   ]
  },
  {
   "cell_type": "code",
   "execution_count": 13,
   "metadata": {},
   "outputs": [],
   "source": [
    "lr_scheduler = tf.keras.callbacks.ReduceLROnPlateau(factor=0.5, patience=3)"
   ]
  },
  {
   "cell_type": "code",
   "execution_count": 14,
   "metadata": {},
   "outputs": [
    {
     "name": "stderr",
     "output_type": "stream",
     "text": [
      "C:\\Users\\cid2r\\AppData\\Local\\Temp/ipykernel_17004/1709004121.py:1: DeprecationWarning: KerasRegressor is deprecated, use Sci-Keras (https://github.com/adriangb/scikeras) instead. See https://www.adriangb.com/scikeras/stable/migration.html for help migrating.\n",
      "  keras_reg = keras.wrappers.scikit_learn.KerasRegressor(build_model)\n"
     ]
    }
   ],
   "source": [
    "keras_reg = keras.wrappers.scikit_learn.KerasRegressor(build_model)"
   ]
  },
  {
   "cell_type": "code",
   "execution_count": 16,
   "metadata": {},
   "outputs": [
    {
     "name": "stdout",
     "output_type": "stream",
     "text": [
      "6/6 [==============================] - 0s 3ms/step - loss: 1.7885 - accuracy: 0.2834\n",
      "6/6 [==============================] - 0s 3ms/step - loss: 1.8200 - accuracy: 0.2727\n",
      "6/6 [==============================] - 0s 3ms/step - loss: 1.7245 - accuracy: 0.2957\n",
      "6/6 [==============================] - 0s 3ms/step - loss: 1.4779 - accuracy: 0.4706\n",
      "6/6 [==============================] - 0s 3ms/step - loss: 1.4805 - accuracy: 0.3957\n",
      "6/6 [==============================] - 0s 2ms/step - loss: 1.6650 - accuracy: 0.3226\n",
      "6/6 [==============================] - 0s 2ms/step - loss: 1.9940 - accuracy: 0.1337\n",
      "6/6 [==============================] - 0s 2ms/step - loss: 1.9506 - accuracy: 0.2193\n",
      "6/6 [==============================] - 0s 3ms/step - loss: 1.9662 - accuracy: 0.2204\n",
      "6/6 [==============================] - 0s 3ms/step - loss: 1.6783 - accuracy: 0.3476\n",
      "6/6 [==============================] - 0s 2ms/step - loss: 1.7001 - accuracy: 0.3422\n",
      "6/6 [==============================] - 0s 2ms/step - loss: 1.7518 - accuracy: 0.2957\n",
      "6/6 [==============================] - 0s 2ms/step - loss: 1.5865 - accuracy: 0.4011\n",
      "6/6 [==============================] - 0s 2ms/step - loss: 1.6138 - accuracy: 0.4011\n",
      "6/6 [==============================] - 0s 3ms/step - loss: 1.6999 - accuracy: 0.3226\n",
      "6/6 [==============================] - 0s 3ms/step - loss: 1.8959 - accuracy: 0.2193\n",
      "6/6 [==============================] - 0s 3ms/step - loss: 1.8408 - accuracy: 0.2620\n",
      "6/6 [==============================] - 0s 3ms/step - loss: 1.9021 - accuracy: 0.2312\n",
      "6/6 [==============================] - 0s 3ms/step - loss: 1.9767 - accuracy: 0.1604\n",
      "6/6 [==============================] - 0s 3ms/step - loss: 1.9503 - accuracy: 0.1925\n",
      "6/6 [==============================] - 0s 3ms/step - loss: 1.9733 - accuracy: 0.1559\n",
      "6/6 [==============================] - 0s 3ms/step - loss: 1.5028 - accuracy: 0.3797\n",
      "6/6 [==============================] - 0s 4ms/step - loss: 1.6241 - accuracy: 0.4225\n",
      "6/6 [==============================] - 0s 3ms/step - loss: 1.6626 - accuracy: 0.3817\n",
      "6/6 [==============================] - 0s 2ms/step - loss: 1.6189 - accuracy: 0.4118\n",
      "6/6 [==============================] - 0s 4ms/step - loss: 1.6430 - accuracy: 0.4545\n",
      "6/6 [==============================] - 0s 2ms/step - loss: 1.6821 - accuracy: 0.3817\n",
      "6/6 [==============================] - 0s 2ms/step - loss: 1.6837 - accuracy: 0.3743\n",
      "6/6 [==============================] - 0s 2ms/step - loss: 1.6431 - accuracy: 0.3957\n",
      "6/6 [==============================] - 0s 2ms/step - loss: 1.6581 - accuracy: 0.3495\n"
     ]
    },
    {
     "data": {
      "text/plain": [
       "RandomizedSearchCV(cv=3,\n",
       "                   estimator=<keras.wrappers.scikit_learn.KerasRegressor object at 0x000001E377EA5970>,\n",
       "                   param_distributions={'learning_rate': [0.0009462870516028843,\n",
       "                                                          0.0015135895397462955,\n",
       "                                                          0.009638220597569852,\n",
       "                                                          0.011917272254883452,\n",
       "                                                          0.01383995229383969,\n",
       "                                                          0.0005364066614440492,\n",
       "                                                          0.0006564585049610774,\n",
       "                                                          0.004024984057557305,\n",
       "                                                          0.00404970431989677,\n",
       "                                                          0.00456541498956...\n",
       "                                                          0.013808573112814606,\n",
       "                                                          0.0004662316778049688,\n",
       "                                                          0.0214191155815602,\n",
       "                                                          0.024502014004738837,\n",
       "                                                          0.026698890321111345,\n",
       "                                                          0.0006273743127907689,\n",
       "                                                          0.004040331524083751,\n",
       "                                                          0.002275568229446844,\n",
       "                                                          0.00037538653185665275,\n",
       "                                                          0.0031646519169359275,\n",
       "                                                          0.0007216401756262144, ...],\n",
       "                                        'n_hidden': [0, 1, 2, 3],\n",
       "                                        'n_neurons': [1, 2, 3, 4, 5, 6, 7, 8, 9,\n",
       "                                                      10, 11, 12, 13, 14, 15,\n",
       "                                                      16, 17, 18, 19, 20, 21,\n",
       "                                                      22, 23, 24, 25, 26, 27,\n",
       "                                                      28, 29, 30, ...]})"
      ]
     },
     "execution_count": 16,
     "metadata": {},
     "output_type": "execute_result"
    }
   ],
   "source": [
    "from scipy.stats import reciprocal\n",
    "from sklearn.model_selection import RandomizedSearchCV\n",
    "\n",
    "param_distribs = {\n",
    "\"n_hidden\": [0, 1, 2, 3],\n",
    "\"n_neurons\": np.arange(1, 100).tolist(),\n",
    "\"learning_rate\": reciprocal(3e-4, 3e-2).rvs(1000).tolist(),\n",
    "}\n",
    "\n",
    "rnd_search_cv = RandomizedSearchCV(keras_reg, param_distribs, n_iter=10, cv=3, verbose=0)\n",
    "\n",
    "rnd_search_cv.fit(x_train, yy_train, epochs=1000, validation_split=0.2, callbacks=[keras.callbacks.EarlyStopping(patience=10)], verbose=0)"
   ]
  },
  {
   "cell_type": "code",
   "execution_count": 17,
   "metadata": {},
   "outputs": [
    {
     "data": {
      "text/plain": [
       "{'n_neurons': 87, 'n_hidden': 2, 'learning_rate': 0.01440623861238206}"
      ]
     },
     "execution_count": 17,
     "metadata": {},
     "output_type": "execute_result"
    }
   ],
   "source": [
    "rnd_search_cv.best_params_"
   ]
  },
  {
   "cell_type": "code",
   "execution_count": 18,
   "metadata": {},
   "outputs": [
    {
     "data": {
      "text/plain": [
       "-1.5411516825358074"
      ]
     },
     "execution_count": 18,
     "metadata": {},
     "output_type": "execute_result"
    }
   ],
   "source": [
    "rnd_search_cv.best_score_"
   ]
  },
  {
   "cell_type": "code",
   "execution_count": 19,
   "metadata": {},
   "outputs": [],
   "source": [
    "model = rnd_search_cv.best_estimator_.model"
   ]
  },
  {
   "cell_type": "code",
   "execution_count": 20,
   "metadata": {},
   "outputs": [],
   "source": [
    "y_pred =model.predict(x_test)\n",
    "ypred = np.argmax(y_pred,axis=1)"
   ]
  },
  {
   "cell_type": "code",
   "execution_count": 21,
   "metadata": {},
   "outputs": [
    {
     "data": {
      "text/plain": [
       "<AxesSubplot:>"
      ]
     },
     "execution_count": 21,
     "metadata": {},
     "output_type": "execute_result"
    },
    {
     "data": {
      "image/png": "[encoded data removed]",
      "text/plain": [
       "<Figure size 432x288 with 2 Axes>"
      ]
     },
     "metadata": {
      "needs_background": "light"
     },
     "output_type": "display_data"
    }
   ],
   "source": [
    "cm = pd.DataFrame(confusion_matrix(yy_test, ypred), columns=classes, index=classes)\n",
    "sns.heatmap(cm, annot=True)"
   ]
  },
  {
   "cell_type": "code",
   "execution_count": null,
   "metadata": {},
   "outputs": [],
   "source": []
  }
 ],
 "metadata": {
  "interpreter": {
   "hash": "9cda7dce2d78f3c21f6a73de63970ac35274352b7a0f13225446d99cae259cfd"
  },
  "kernelspec": {
   "display_name": "Python 3.9.7 ('base')",
   "language": "python",
   "name": "python3"
  },
  "language_info": {
   "codemirror_mode": {
    "name": "ipython",
    "version": 3
   },
   "file_extension": ".py",
   "mimetype": "text/x-python",
   "name": "python",
   "nbconvert_exporter": "python",
   "pygments_lexer": "ipython3",
   "version": "3.9.7"
  },
  "orig_nbformat": 4
 },
 "nbformat": 4,
 "nbformat_minor": 2
}
