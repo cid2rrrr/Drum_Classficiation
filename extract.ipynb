{
 "cells": [
  {
   "cell_type": "code",
   "execution_count": 1,
   "metadata": {},
   "outputs": [],
   "source": [
    "import librosa\n",
    "import librosa.display\n",
    "\n",
    "import numpy as np\n",
    "import matplotlib.pyplot as plt\n",
    "\n",
    "# from past.utils import old_div\n",
    "\n",
    "y, sr = librosa.load(\"D:\\Drum\\HiHat\\hat 2 SMOKE.wav\")\n",
    "#y, sr = librosa.load(\"D:\\Drum\\HiHat\\!Hat 39.wav\")\n",
    "#y, sr = librosa.load('/Users/cooky/HDD/Drum/Dilla Drums/!Snare 170.wav')\n",
    "#y, sr = librosa.load('/Users/cooky/HDD/Drum/illmind blap kit 7/KICK_FUELO.wav')\n",
    "#y, sr = librosa.load('/Users/cooky/HDD/Drum/Dilla Drums/!Snare 170.wav')\n",
    "\n",
    "#print(y.shape)\n",
    "\n",
    "yt, index = librosa.effects.trim(y=y, top_db=30)\n",
    "\n",
    "\n",
    "\n",
    "yt = librosa.util.normalize(yt)"
   ]
  },
  {
   "cell_type": "code",
   "execution_count": 2,
   "metadata": {},
   "outputs": [],
   "source": [
    "CNN_INPUT_SIZE = (128, 20)\n",
    "DEFAULT_SR = 22050"
   ]
  },
  {
   "cell_type": "code",
   "execution_count": 3,
   "metadata": {},
   "outputs": [],
   "source": [
    "import numpy as np\n",
    "\n",
    "def resize_axis(array, N):\n",
    "    if(array.shape[1] > N):\n",
    "        resized = array[:,:N]\n",
    "    else:\n",
    "        resized = np.lib.pad(array, ((0,0),(0,N - array.shape[1])),\\\n",
    "            'constant', constant_values=(np.min(array)))\n",
    "    return resized"
   ]
  },
  {
   "cell_type": "code",
   "execution_count": 4,
   "metadata": {},
   "outputs": [],
   "source": [
    "def extract_cnn_input(raw_audio):\n",
    "    frame_length = min(2048, len(raw_audio))\n",
    "    mel_spec = librosa.core.power_to_db(librosa.feature.melspectrogram(\n",
    "        y=raw_audio, sr=DEFAULT_SR, n_fft=frame_length,\n",
    "        hop_length=frame_length//4, n_mels=CNN_INPUT_SIZE[0])\n",
    "    )\n",
    "    # Truncate number of frames stored\n",
    "    m = min(CNN_INPUT_SIZE[1], mel_spec.shape[1])\n",
    "    N =20\n",
    "    mell = resize_axis(mel_spec[:, 0:m], N)\n",
    "    return mell"
   ]
  },
  {
   "cell_type": "markdown",
   "metadata": {},
   "source": [
    "---"
   ]
  },
  {
   "cell_type": "code",
   "execution_count": null,
   "metadata": {},
   "outputs": [],
   "source": [
    "MIN_LEN = 8\n",
    "MAX_LEN = 14\n",
    "\n",
    "def len_profit(y):\n",
    "    return True if len(y) >= MIN_LEN else False\n",
    "\n",
    "def chg_len(y):\n",
    "    if len(y) > MAX_LEN:\n",
    "        return y[:MAX_LEN]\n",
    "    else:\n",
    "        for i in range(len(y), MAX_LEN):\n",
    "            y.append(0)\n",
    "        return y\n",
    "    "
   ]
  },
  {
   "cell_type": "code",
   "execution_count": 40,
   "metadata": {},
   "outputs": [],
   "source": [
    "import os\n",
    "\n",
    "def onehot(str):\n",
    "    path = './imsi'\n",
    "    kits = os.listdir(path)\n",
    "    kits.remove('.DS_Store')\n",
    "    \n",
    "    oh = []\n",
    "\n",
    "    for kit in kits:\n",
    "        if str == kit:\n",
    "            oh.append(1)\n",
    "        else:\n",
    "            oh.append(0)\n",
    "    \n",
    "    return oh"
   ]
  },
  {
   "cell_type": "code",
   "execution_count": 22,
   "metadata": {},
   "outputs": [],
   "source": [
    "import pandas as pd\n",
    "\n",
    "data = []\n",
    "drumkit_path = './imsi'\n",
    "kits = os.listdir(drumkit_path)\n",
    "kits = kits.remove('.DS_Store')\n",
    "\n",
    "for kit in kits:\n",
    "    path = os.path.join(drumkit_path, kit)\n",
    "    sounds = os.listdir(path)\n",
    "    sounds = sounds.remove('.DS_Store')\n",
    "\n",
    "    for sound in sounds:\n",
    "        wavfile = os.path.join(path, wavfile)\n",
    "        # load\n",
    "        y, sr = librosa.load(wavfile)\n",
    "        # trim\n",
    "        yt, index = librosa.effects.trim(y=y, top_db=30)\n",
    "        # normalize\n",
    "        yt = librosa.util.normalize(yt)\n",
    "        # gonna use data whose len is at least MIN_LEN\n",
    "        imsi_zcr = librosa.feature.zero_crossing_rate(yt)\n",
    "\n",
    "        if len_profit(imsi_zcr):\n",
    "            # type\n",
    "            typ = onehot(kit)\n",
    "            # Duration\n",
    "            dur = librosa.get_duration(yt)\n",
    "            # Zero Crossing Rate\n",
    "            zcr = librosa.feature.zero_crossing_rate(yt)\n",
    "            # Spectral Flatness\n",
    "            flt = librosa.feature.spectral_flatness(yt)\n",
    "            # Spectral Bandwidth\n",
    "            bdw = librosa.feature.spectral_bandwidth(yt)\n",
    "            # Spectral RollOff\n",
    "            rlf = librosa.feature.spectral_rolloff(yt, roll_percent=0.8)\n",
    "            # --------\n",
    "            # Mel Spectogram\n",
    "            # mel = extract_cnn_input(yt)\n",
    "            # Constant-Q Power\n",
    "            # cqt = np.abs(librosa.cqt(yt))\n",
    "            # --------\n",
    "            # Concat\n",
    "            feature = np.concatenate((typ, dur, zcr, flt, bdw, rlf))\n",
    "            data.append(feature)\n",
    "\n",
    "feature_dataset = pd.DataFrame(data)\n",
    "feature_dataset.to_csv('Feature_Dataset', index = False)"
   ]
  },
  {
   "cell_type": "markdown",
   "metadata": {},
   "source": [
    "-----"
   ]
  },
  {
   "cell_type": "code",
   "execution_count": null,
   "metadata": {},
   "outputs": [],
   "source": []
  }
 ],
 "metadata": {
  "interpreter": {
   "hash": "25234946bffb7157e9c8769ce844dee6ca9a51f7fde0528d9bc8f650e0025575"
  },
  "kernelspec": {
   "display_name": "Python 3.9.12 ('base')",
   "language": "python",
   "name": "python3"
  },
  "language_info": {
   "codemirror_mode": {
    "name": "ipython",
    "version": 3
   },
   "file_extension": ".py",
   "mimetype": "text/x-python",
   "name": "python",
   "nbconvert_exporter": "python",
   "pygments_lexer": "ipython3",
   "version": "3.9.12"
  },
  "orig_nbformat": 4
 },
 "nbformat": 4,
 "nbformat_minor": 2
}
