{
 "cells": [
  {
   "cell_type": "code",
   "execution_count": 1,
   "metadata": {},
   "outputs": [],
   "source": [
    "import numpy as np\n",
    "\n",
    "def resize_axis(array, N):\n",
    "    if(array.shape[1] > N):\n",
    "        resized = array[:,:N]\n",
    "    else:\n",
    "        resized = np.lib.pad(array, ((0,0),(0,N - array.shape[1])),\\\n",
    "            'constant', constant_values=(np.min(array)))\n",
    "    return resized\n",
    "        "
   ]
  },
  {
   "cell_type": "code",
   "execution_count": 2,
   "metadata": {},
   "outputs": [],
   "source": [
    "CNN_INPUT_SIZE = (128, 20)\n",
    "DEFAULT_SR = 22050\n",
    "\n",
    "def extract_cnn_input(raw_audio):\n",
    "    frame_length = min(2048, len(raw_audio))\n",
    "    mel_spec = librosa.core.power_to_db(librosa.feature.melspectrogram(\n",
    "        y=raw_audio, sr=DEFAULT_SR, n_fft=frame_length,\n",
    "        hop_length=frame_length//4, n_mels=CNN_INPUT_SIZE[0])\n",
    "    )\n",
    "    # Truncate number of frames stored\n",
    "    m = min(CNN_INPUT_SIZE[1], mel_spec.shape[1])\n",
    "    print(mel_spec.shape[1])\n",
    "    N =20\n",
    "    mell = resize_axis(mel_spec[:, 0:m], N)\n",
    "    return mell"
   ]
  },
  {
   "cell_type": "code",
   "execution_count": 3,
   "metadata": {},
   "outputs": [],
   "source": [
    "CNN_INPUT_SIZE = (128, 20)"
   ]
  },
  {
   "cell_type": "code",
   "execution_count": 4,
   "metadata": {},
   "outputs": [],
   "source": [
    "DEFAULT_SR = 22050"
   ]
  },
  {
   "cell_type": "code",
   "execution_count": 47,
   "metadata": {},
   "outputs": [
    {
     "name": "stdout",
     "output_type": "stream",
     "text": [
      "29\n"
     ]
    },
    {
     "data": {
      "text/plain": [
       "<matplotlib.colorbar.Colorbar at 0x26a26577f70>"
      ]
     },
     "execution_count": 47,
     "metadata": {},
     "output_type": "execute_result"
    },
    {
     "data": {
      "image/png": "[encoded data removed]",
      "text/plain": [
       "<Figure size 432x288 with 2 Axes>"
      ]
     },
     "metadata": {
      "needs_background": "light"
     },
     "output_type": "display_data"
    }
   ],
   "source": [
    "import librosa\n",
    "import librosa.display\n",
    "\n",
    "import numpy as np\n",
    "import matplotlib.pyplot as plt\n",
    "\n",
    "# from past.utils import old_div\n",
    "\n",
    "y, sr = librosa.load(\"D:\\Drum\\HiHat\\hat 2 SMOKE.wav\")\n",
    "#y, sr = librosa.load(\"D:\\Drum\\HiHat\\!Hat 39.wav\")\n",
    "#y, sr = librosa.load('/Users/cooky/HDD/Drum/Dilla Drums/!Snare 170.wav')\n",
    "#y, sr = librosa.load('/Users/cooky/HDD/Drum/illmind blap kit 7/KICK_FUELO.wav')\n",
    "#y, sr = librosa.load('/Users/cooky/HDD/Drum/Dilla Drums/!Snare 170.wav')\n",
    "\n",
    "#print(y.shape)\n",
    "\n",
    "yt, index = librosa.effects.trim(y=y, top_db=30)\n",
    "\n",
    "\n",
    "\n",
    "yt = librosa.util.normalize(yt)\n",
    "\n",
    "#print(yt)\n",
    "\n",
    "#D = librosa.stft(yt)  # STFT of y\n",
    "\n",
    "# print(D.shape)\n",
    "\n",
    "# mel = librosa.feature.melspectrogram(\n",
    "#         S=D, sr=DEFAULT_SR,\n",
    "#         hop_length=1024, n_mels=128)\n",
    "\n",
    "\n",
    "#S_db = librosa.amplitude_to_db(np.abs(D), ref=np.max)\n",
    "\n",
    "#resized_S_db = resize_axis(S_db)\n",
    "\n",
    "#print(S_db.shape)\n",
    "\n",
    "k = extract_cnn_input(y)\n",
    "\n",
    "plt.figure()\n",
    "librosa.display.specshow(k)\n",
    "plt.colorbar()\n",
    "\n",
    "\n",
    "# plt.figure()\n",
    "# librosa.display.specshow(mel)\n",
    "# plt.colorbar()"
   ]
  },
  {
   "cell_type": "markdown",
   "metadata": {},
   "source": [
    "----"
   ]
  },
  {
   "cell_type": "markdown",
   "metadata": {},
   "source": [
    "C Q T"
   ]
  },
  {
   "cell_type": "code",
   "execution_count": 15,
   "metadata": {},
   "outputs": [
    {
     "name": "stderr",
     "output_type": "stream",
     "text": [
      "c:\\Users\\cid2r\\anaconda3\\lib\\site-packages\\librosa\\util\\decorators.py:88: UserWarning: n_fft=256 is too small for input signal of length=160\n",
      "  return f(*args, **kwargs)\n",
      "c:\\Users\\cid2r\\anaconda3\\lib\\site-packages\\librosa\\util\\decorators.py:88: UserWarning: n_fft=256 is too small for input signal of length=80\n",
      "  return f(*args, **kwargs)\n"
     ]
    }
   ],
   "source": [
    "C = np.abs(librosa.cqt(yt, sr=sr))"
   ]
  },
  {
   "cell_type": "code",
   "execution_count": 16,
   "metadata": {},
   "outputs": [
    {
     "data": {
      "image/png": "[encoded data removed]",
      "text/plain": [
       "<Figure size 432x288 with 2 Axes>"
      ]
     },
     "metadata": {
      "needs_background": "light"
     },
     "output_type": "display_data"
    }
   ],
   "source": [
    "fig, ax = plt.subplots()\n",
    "img = librosa.display.specshow(librosa.amplitude_to_db(C, ref=np.max), sr=sr, x_axis='time', y_axis='cqt_note', ax=ax)\n",
    "ax.set_title('Constant-Q power spectrum')\n",
    "fig.colorbar(img, ax=ax, format=\"%+2.0f dB\")\n",
    "k = librosa.amplitude_to_db(C, ref=np.max)"
   ]
  },
  {
   "cell_type": "code",
   "execution_count": 17,
   "metadata": {},
   "outputs": [
    {
     "data": {
      "text/plain": [
       "(84, 11)"
      ]
     },
     "execution_count": 17,
     "metadata": {},
     "output_type": "execute_result"
    }
   ],
   "source": [
    "k.shape"
   ]
  },
  {
   "cell_type": "markdown",
   "metadata": {},
   "source": [
    "zcr"
   ]
  },
  {
   "cell_type": "code",
   "execution_count": 18,
   "metadata": {},
   "outputs": [],
   "source": [
    "z = librosa.feature.zero_crossing_rate(yt)"
   ]
  },
  {
   "cell_type": "code",
   "execution_count": 19,
   "metadata": {},
   "outputs": [
    {
     "data": {
      "text/plain": [
       "array([[0.08007812, 0.19140625, 0.30419922, 0.40136719, 0.42333984,\n",
       "        0.41162109, 0.37939453, 0.27783203, 0.17919922, 0.07958984,\n",
       "        0.        ]])"
      ]
     },
     "execution_count": 19,
     "metadata": {},
     "output_type": "execute_result"
    }
   ],
   "source": [
    "z"
   ]
  },
  {
   "cell_type": "markdown",
   "metadata": {},
   "source": [
    "spectral bandwidth"
   ]
  },
  {
   "cell_type": "code",
   "execution_count": 20,
   "metadata": {},
   "outputs": [],
   "source": [
    "spec_bw = librosa.feature.spectral_bandwidth(y=y, sr=sr)\n",
    "S, phase = librosa.magphase(librosa.stft(y=y))"
   ]
  },
  {
   "cell_type": "code",
   "execution_count": 21,
   "metadata": {},
   "outputs": [
    {
     "data": {
      "image/png": "[encoded data removed]",
      "text/plain": [
       "<Figure size 432x288 with 2 Axes>"
      ]
     },
     "metadata": {
      "needs_background": "light"
     },
     "output_type": "display_data"
    }
   ],
   "source": [
    "fig, ax = plt.subplots(nrows=2, sharex=True)\n",
    "times = librosa.times_like(spec_bw)\n",
    "centroid = librosa.feature.spectral_centroid(S=S)\n",
    "ax[0].semilogy(times, spec_bw[0], label='Spectral bandwidth')\n",
    "ax[0].set(ylabel='Hz', xticks=[], xlim=[times.min(), times.max()])\n",
    "ax[0].legend()\n",
    "ax[0].label_outer()\n",
    "#librosa.display.specshow(librosa.amplitude_to_db(S, ref=np.max), y_axis='log', x_axis='time', ax=ax[1])\n",
    "#ax[1].set(title='log Power spectrogram')\n",
    "\n",
    "# ax[1].fill_between(times, np.maximum(0, centroid[0] - spec_bw[0]), np.minimum(centroid[0] + spec_bw[0], sr/2), alpha=0.5, label='Centroid +- bandwidth')\n",
    "# ax[1].plot(times, centroid[0], label='Spectral centroid', color='w')\n",
    "# ax[1].legend(loc='lower right')"
   ]
  },
  {
   "cell_type": "code",
   "execution_count": 25,
   "metadata": {},
   "outputs": [],
   "source": [
    "from scipy.signal import butter, lfilter\n",
    "import matplotlib.pyplot as plt\n",
    "import numpy as np"
   ]
  },
  {
   "cell_type": "code",
   "execution_count": 26,
   "metadata": {},
   "outputs": [],
   "source": [
    "def butter_lowpass(cutoff, fs, order=9):\n",
    "    nyq = 0.5 * fs\n",
    "    normal_cutoff = cutoff / nyq\n",
    "    b, a = butter(order, normal_cutoff, btype='low', analog=False)\n",
    "    return b, a\n",
    "\n",
    "def butter_lowpass_filter(data, cutoff, fs, order=9):\n",
    "    b, a = butter_lowpass(cutoff, fs, order=order)\n",
    "    y = lfilter(b, a, data)\n",
    "    return y"
   ]
  },
  {
   "cell_type": "code",
   "execution_count": 30,
   "metadata": {},
   "outputs": [],
   "source": [
    "cutoff = 30\n",
    "Fs = 2000\n",
    "\n",
    "lpf = butter_lowpass_filter(yt, cutoff, Fs, order=0)"
   ]
  },
  {
   "cell_type": "code",
   "execution_count": 53,
   "metadata": {},
   "outputs": [],
   "source": [
    "#Creation of the filter\n",
    "sf = 22050\n",
    "cutOff = 1000 # Cutoff frequency\n",
    "nyq = 0.5 * sf\n",
    "N  = 6    # Filter order\n",
    "fc = cutOff / nyq # Cutoff frequency normal\n",
    "b, a = butter(N, fc)"
   ]
  },
  {
   "cell_type": "code",
   "execution_count": 31,
   "metadata": {},
   "outputs": [
    {
     "data": {
      "text/plain": [
       "array([-1.3464093e-04, -1.7939409e-04, -9.8637218e-05, ...,\n",
       "       -2.8159400e-04, -2.2703124e-04, -2.3554967e-04], dtype=float32)"
      ]
     },
     "execution_count": 31,
     "metadata": {},
     "output_type": "execute_result"
    }
   ],
   "source": [
    "yt"
   ]
  },
  {
   "cell_type": "code",
   "execution_count": 32,
   "metadata": {},
   "outputs": [
    {
     "data": {
      "text/plain": [
       "array([-1.34640926e-04, -1.79394090e-04, -9.86372179e-05, ...,\n",
       "       -2.81593995e-04, -2.27031240e-04, -2.35549669e-04])"
      ]
     },
     "execution_count": 32,
     "metadata": {},
     "output_type": "execute_result"
    }
   ],
   "source": [
    "lpf"
   ]
  },
  {
   "cell_type": "code",
   "execution_count": 51,
   "metadata": {},
   "outputs": [
    {
     "data": {
      "image/png": "[encoded data removed]",
      "text/plain": [
       "<Figure size 432x288 with 3 Axes>"
      ]
     },
     "metadata": {
      "needs_background": "light"
     },
     "output_type": "display_data"
    }
   ],
   "source": [
    "#import matplotlib.pyplot as plt\n",
    "#y, sr = librosa.load(librosa.ex('choice'), duration=10)\n",
    "fig, ax = plt.subplots(nrows=3, sharex=True)\n",
    "librosa.display.waveshow(yt, sr=sr, ax=ax[0])\n",
    "librosa.display.waveshow(lpf, sr=sr, ax=ax[0])\n",
    "ax[0].set(title='Envelope view, mono')\n",
    "ax[0].label_outer()"
   ]
  },
  {
   "cell_type": "code",
   "execution_count": null,
   "metadata": {},
   "outputs": [],
   "source": []
  }
 ],
 "metadata": {
  "interpreter": {
   "hash": "9cda7dce2d78f3c21f6a73de63970ac35274352b7a0f13225446d99cae259cfd"
  },
  "kernelspec": {
   "display_name": "Python 3.9.7 ('base')",
   "language": "python",
   "name": "python3"
  },
  "language_info": {
   "codemirror_mode": {
    "name": "ipython",
    "version": 3
   },
   "file_extension": ".py",
   "mimetype": "text/x-python",
   "name": "python",
   "nbconvert_exporter": "python",
   "pygments_lexer": "ipython3",
   "version": "3.9.7"
  },
  "orig_nbformat": 4,
  "vscode": {
   "interpreter": {
    "hash": "36975e2464779a1907498622a1ff8d141cf5663f65c7cf0c02ae689c8b788bad"
   }
  }
 },
 "nbformat": 4,
 "nbformat_minor": 2
}
