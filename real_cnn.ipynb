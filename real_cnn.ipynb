{
 "cells": [
  {
   "cell_type": "code",
   "execution_count": 1,
   "metadata": {},
   "outputs": [],
   "source": [
    "import librosa\n",
    "import librosa.display\n",
    "import numpy as np"
   ]
  },
  {
   "cell_type": "code",
   "execution_count": 2,
   "metadata": {},
   "outputs": [],
   "source": [
    "CNN_INPUT_SIZE = (128, 20)\n",
    "DEFAULT_SR = 22050"
   ]
  },
  {
   "cell_type": "code",
   "execution_count": 3,
   "metadata": {},
   "outputs": [],
   "source": [
    "def resize_axis(array, N):\n",
    "    if(array.shape[1] > N):\n",
    "        resized = array[:,:N]\n",
    "    else:\n",
    "        resized = np.lib.pad(array, ((0,0),(0,N - array.shape[1])),\\\n",
    "            'constant', constant_values=(np.min(array)))\n",
    "    return resized"
   ]
  },
  {
   "cell_type": "code",
   "execution_count": 4,
   "metadata": {},
   "outputs": [],
   "source": [
    "def extract_cnn_input(raw_audio):\n",
    "    frame_length = min(2048, len(raw_audio))\n",
    "    mel_spec = librosa.core.power_to_db(librosa.feature.melspectrogram(\n",
    "        y=raw_audio, sr=DEFAULT_SR, n_fft=frame_length,\n",
    "        hop_length=frame_length//4, n_mels=CNN_INPUT_SIZE[0])\n",
    "    )\n",
    "    # Truncate number of frames stored\n",
    "    m = min(CNN_INPUT_SIZE[1], mel_spec.shape[1])\n",
    "    N =20\n",
    "    mell = resize_axis(mel_spec[:, 0:m], N)\n",
    "    return mell"
   ]
  },
  {
   "cell_type": "markdown",
   "metadata": {},
   "source": [
    "---"
   ]
  },
  {
   "cell_type": "code",
   "execution_count": 5,
   "metadata": {},
   "outputs": [],
   "source": [
    "import os\n",
    "\n",
    "def onehot(str):\n",
    "    path = './Drum'\n",
    "    kits = os.listdir(path)\n",
    "    #kits.remove('.DS_Store')\n",
    "    \n",
    "    oh = []\n",
    "\n",
    "    for kit in kits:\n",
    "        if str == kit:\n",
    "            oh.append(1)\n",
    "        else:\n",
    "            oh.append(0)\n",
    "    \n",
    "    return np.array(oh)"
   ]
  },
  {
   "cell_type": "code",
   "execution_count": 6,
   "metadata": {},
   "outputs": [
    {
     "name": "stderr",
     "output_type": "stream",
     "text": [
      "/Users/cooky/miniforge3/lib/python3.9/site-packages/librosa/util/decorators.py:88: UserWarning: Empty filters detected in mel frequency basis. Some channels will produce empty responses. Try increasing your sampling rate (and fmax) or reducing n_mels.\n",
      "  return f(*args, **kwargs)\n"
     ]
    }
   ],
   "source": [
    "#path = 'Drum\\Snare\\9th Snare 38.wav'\n",
    "\n",
    "y_label = None\n",
    "x_label = None\n",
    "\n",
    "drumkit_path = './Drum'\n",
    "kits = os.listdir(drumkit_path)\n",
    "\n",
    "for kit in kits:\n",
    "    path = os.path.join(drumkit_path, kit)\n",
    "    sounds = os.listdir(path)\n",
    "    \n",
    "    for sound in sounds:\n",
    "        wavfile = os.path.join(path, sound)\n",
    "        y, sr = librosa.load(wavfile)\n",
    "        yt, index = librosa.effects.trim(y=y, top_db=30)\n",
    "        yt = librosa.util.normalize(yt)\n",
    "        k = extract_cnn_input(yt)\n",
    "        k = np.expand_dims(k, axis=0)\n",
    "        \n",
    "        typ = onehot(kit)\n",
    "        typ = np.expand_dims(typ, axis=0)\n",
    "        \n",
    "        if x_label is None:\n",
    "            x_label = k.copy()\n",
    "            y_label = typ.copy()\n",
    "        else:\n",
    "            x_label = np.concatenate((x_label, k), axis=0)\n",
    "            y_label = np.concatenate((y_label, typ), axis=0)\n",
    "        \n",
    "        "
   ]
  },
  {
   "cell_type": "code",
   "execution_count": 7,
   "metadata": {},
   "outputs": [],
   "source": [
    "#Shuffle Data\n",
    "\n",
    "shuffle = np.arange(y_label.shape[0])\n",
    "np.random.shuffle(shuffle)\n",
    "\n",
    "x_label = x_label[shuffle]\n",
    "y_label = y_label[shuffle]"
   ]
  },
  {
   "cell_type": "code",
   "execution_count": 8,
   "metadata": {},
   "outputs": [
    {
     "data": {
      "text/plain": [
       "array([[0, 0, 1, ..., 0, 0, 0],\n",
       "       [0, 0, 1, ..., 0, 0, 0],\n",
       "       [0, 0, 0, ..., 1, 0, 0],\n",
       "       ...,\n",
       "       [1, 0, 0, ..., 0, 0, 0],\n",
       "       [0, 0, 0, ..., 1, 0, 0],\n",
       "       [0, 0, 1, ..., 0, 0, 0]])"
      ]
     },
     "execution_count": 8,
     "metadata": {},
     "output_type": "execute_result"
    }
   ],
   "source": [
    "y_label"
   ]
  },
  {
   "cell_type": "code",
   "execution_count": 9,
   "metadata": {},
   "outputs": [],
   "source": [
    "from sklearn.model_selection import train_test_split\n",
    "\n",
    "x_train, x_test, y_train, y_test = train_test_split(x_label, y_label, test_size=0.2)"
   ]
  },
  {
   "cell_type": "code",
   "execution_count": 10,
   "metadata": {},
   "outputs": [
    {
     "data": {
      "text/plain": [
       "(560, 128, 20)"
      ]
     },
     "execution_count": 10,
     "metadata": {},
     "output_type": "execute_result"
    }
   ],
   "source": [
    "x_train.shape"
   ]
  },
  {
   "cell_type": "code",
   "execution_count": 11,
   "metadata": {},
   "outputs": [
    {
     "data": {
      "text/plain": [
       "array([[0, 0, 0, ..., 1, 0, 0],\n",
       "       [1, 0, 0, ..., 0, 0, 0],\n",
       "       [0, 0, 0, ..., 0, 0, 1],\n",
       "       ...,\n",
       "       [0, 0, 0, ..., 0, 0, 1],\n",
       "       [0, 0, 0, ..., 0, 0, 0],\n",
       "       [0, 0, 1, ..., 0, 0, 0]])"
      ]
     },
     "execution_count": 11,
     "metadata": {},
     "output_type": "execute_result"
    }
   ],
   "source": [
    "y_train"
   ]
  },
  {
   "cell_type": "code",
   "execution_count": 12,
   "metadata": {},
   "outputs": [],
   "source": [
    "# change y_label to fit sci-kit specification (one-hot to categorical #)\n",
    "\n",
    "yy_test = np.array([])\n",
    "for i in range(x_test.shape[0]):\n",
    "    imsi = np.array([])\n",
    "    count = 0\n",
    "    for j in range(7):\n",
    "        if int(y_test[i,j]) == 0:\n",
    "            count += 1\n",
    "        else:\n",
    "            yy_test = np.concatenate((yy_test, np.array([count])), axis=0)\n",
    "            break\n"
   ]
  },
  {
   "cell_type": "code",
   "execution_count": 13,
   "metadata": {},
   "outputs": [],
   "source": [
    "yy_train = np.array([])\n",
    "for i in range(x_train.shape[0]):\n",
    "    imsi = np.array([])\n",
    "    count = 0\n",
    "    for j in range(7):\n",
    "        if int(y_train[i,j]) == 0:\n",
    "            count += 1\n",
    "        else:\n",
    "            yy_train = np.concatenate((yy_train, np.array([count])), axis=0)\n",
    "            break\n",
    "\n"
   ]
  },
  {
   "cell_type": "markdown",
   "metadata": {},
   "source": [
    "---"
   ]
  },
  {
   "cell_type": "code",
   "execution_count": 14,
   "metadata": {},
   "outputs": [
    {
     "data": {
      "text/plain": [
       "(560, 7)"
      ]
     },
     "execution_count": 14,
     "metadata": {},
     "output_type": "execute_result"
    }
   ],
   "source": [
    "y_train.shape"
   ]
  },
  {
   "cell_type": "code",
   "execution_count": 15,
   "metadata": {},
   "outputs": [
    {
     "data": {
      "text/plain": [
       "(560, 128, 20)"
      ]
     },
     "execution_count": 15,
     "metadata": {},
     "output_type": "execute_result"
    }
   ],
   "source": [
    "x_train.shape"
   ]
  },
  {
   "cell_type": "code",
   "execution_count": 16,
   "metadata": {},
   "outputs": [],
   "source": [
    "import tensorflow as tf\n",
    "from tensorflow.keras import datasets, layers, models\n",
    "\n"
   ]
  },
  {
   "cell_type": "code",
   "execution_count": 17,
   "metadata": {},
   "outputs": [
    {
     "name": "stdout",
     "output_type": "stream",
     "text": [
      "Metal device set to: Apple M1\n",
      "\n",
      "systemMemory: 8.00 GB\n",
      "maxCacheSize: 2.67 GB\n",
      "\n"
     ]
    },
    {
     "name": "stderr",
     "output_type": "stream",
     "text": [
      "2022-05-20 19:50:19.375496: I tensorflow/core/common_runtime/pluggable_device/pluggable_device_factory.cc:305] Could not identify NUMA node of platform GPU ID 0, defaulting to 0. Your kernel may not have been built with NUMA support.\n",
      "2022-05-20 19:50:19.375787: I tensorflow/core/common_runtime/pluggable_device/pluggable_device_factory.cc:271] Created TensorFlow device (/job:localhost/replica:0/task:0/device:GPU:0 with 0 MB memory) -> physical PluggableDevice (device: 0, name: METAL, pci bus id: <undefined>)\n"
     ]
    }
   ],
   "source": [
    "model = models.Sequential()\n",
    "model.add(layers.Conv2D(32, (3, 3), activation='relu', input_shape=(128, 20,1)))\n",
    "model.add(layers.MaxPooling2D())\n",
    "model.add(layers.Conv2D(64, (3, 3), activation='relu'))\n",
    "model.add(layers.MaxPooling2D())\n",
    "model.add(layers.Conv2D(64, (3, 3), activation='relu'))\n",
    "model.add(layers.Flatten())\n",
    "model.add(layers.Dense(32, activation='relu'))\n",
    "model.add(layers.Dense(7, activation='softmax'))"
   ]
  },
  {
   "cell_type": "code",
   "execution_count": 26,
   "metadata": {},
   "outputs": [
    {
     "name": "stdout",
     "output_type": "stream",
     "text": [
      "Epoch 1/20\n",
      " 1/14 [=>............................] - ETA: 5s - loss: 0.0192 - accuracy: 1.0000"
     ]
    },
    {
     "name": "stderr",
     "output_type": "stream",
     "text": [
      "2022-05-20 19:53:06.310947: I tensorflow/core/grappler/optimizers/custom_graph_optimizer_registry.cc:113] Plugin optimizer for device_type GPU is enabled.\n"
     ]
    },
    {
     "name": "stdout",
     "output_type": "stream",
     "text": [
      "14/14 [==============================] - 1s 41ms/step - loss: 0.0225 - accuracy: 0.9911 - val_loss: 0.1064 - val_accuracy: 0.9554\n",
      "Epoch 2/20\n"
     ]
    },
    {
     "name": "stderr",
     "output_type": "stream",
     "text": [
      "2022-05-20 19:53:06.819499: I tensorflow/core/grappler/optimizers/custom_graph_optimizer_registry.cc:113] Plugin optimizer for device_type GPU is enabled.\n"
     ]
    },
    {
     "name": "stdout",
     "output_type": "stream",
     "text": [
      "14/14 [==============================] - 0s 24ms/step - loss: 0.0122 - accuracy: 0.9955 - val_loss: 0.0665 - val_accuracy: 0.9643\n",
      "Epoch 3/20\n",
      "14/14 [==============================] - 0s 26ms/step - loss: 0.0139 - accuracy: 0.9978 - val_loss: 0.0369 - val_accuracy: 0.9911\n",
      "Epoch 4/20\n",
      "14/14 [==============================] - 0s 34ms/step - loss: 0.0315 - accuracy: 0.9888 - val_loss: 0.1456 - val_accuracy: 0.9732\n",
      "Epoch 5/20\n",
      "14/14 [==============================] - 0s 28ms/step - loss: 0.0687 - accuracy: 0.9844 - val_loss: 0.0381 - val_accuracy: 0.9821\n",
      "Epoch 6/20\n",
      "14/14 [==============================] - 0s 23ms/step - loss: 0.0128 - accuracy: 0.9933 - val_loss: 0.0814 - val_accuracy: 0.9643\n",
      "Epoch 7/20\n",
      "14/14 [==============================] - 0s 36ms/step - loss: 0.0131 - accuracy: 0.9978 - val_loss: 0.0622 - val_accuracy: 0.9911\n",
      "Epoch 8/20\n",
      "14/14 [==============================] - 0s 23ms/step - loss: 0.0112 - accuracy: 0.9955 - val_loss: 0.0347 - val_accuracy: 0.9821\n",
      "Epoch 9/20\n",
      "14/14 [==============================] - 0s 26ms/step - loss: 0.0013 - accuracy: 1.0000 - val_loss: 0.0322 - val_accuracy: 0.9911\n",
      "Epoch 10/20\n",
      "14/14 [==============================] - 0s 23ms/step - loss: 0.0013 - accuracy: 1.0000 - val_loss: 0.0273 - val_accuracy: 0.9911\n",
      "Epoch 11/20\n",
      "14/14 [==============================] - 0s 26ms/step - loss: 5.4908e-04 - accuracy: 1.0000 - val_loss: 0.0251 - val_accuracy: 0.9821\n",
      "Epoch 12/20\n",
      "14/14 [==============================] - 0s 25ms/step - loss: 3.9339e-04 - accuracy: 1.0000 - val_loss: 0.0209 - val_accuracy: 0.9911\n",
      "Epoch 13/20\n",
      "14/14 [==============================] - 0s 24ms/step - loss: 3.2426e-04 - accuracy: 1.0000 - val_loss: 0.0213 - val_accuracy: 0.9821\n",
      "Epoch 14/20\n",
      "14/14 [==============================] - 0s 26ms/step - loss: 2.6389e-04 - accuracy: 1.0000 - val_loss: 0.0230 - val_accuracy: 0.9911\n",
      "Epoch 15/20\n",
      "14/14 [==============================] - 0s 29ms/step - loss: 2.3694e-04 - accuracy: 1.0000 - val_loss: 0.0217 - val_accuracy: 0.9911\n",
      "Epoch 16/20\n",
      "14/14 [==============================] - 0s 23ms/step - loss: 2.0852e-04 - accuracy: 1.0000 - val_loss: 0.0199 - val_accuracy: 0.9911\n",
      "Epoch 17/20\n",
      "14/14 [==============================] - 0s 22ms/step - loss: 1.8921e-04 - accuracy: 1.0000 - val_loss: 0.0200 - val_accuracy: 0.9911\n",
      "Epoch 18/20\n",
      "14/14 [==============================] - 0s 25ms/step - loss: 1.6996e-04 - accuracy: 1.0000 - val_loss: 0.0200 - val_accuracy: 0.9911\n",
      "Epoch 19/20\n",
      "14/14 [==============================] - 0s 24ms/step - loss: 1.6056e-04 - accuracy: 1.0000 - val_loss: 0.0192 - val_accuracy: 0.9911\n",
      "Epoch 20/20\n",
      "14/14 [==============================] - 0s 26ms/step - loss: 1.4451e-04 - accuracy: 1.0000 - val_loss: 0.0196 - val_accuracy: 0.9911\n"
     ]
    }
   ],
   "source": [
    "model.compile(optimizer='adam',\n",
    "              loss=tf.keras.losses.categorical_crossentropy,\n",
    "              metrics=['accuracy'])\n",
    "\n",
    "history = model.fit(x_train, y_train, epochs=20, validation_split=0.2)"
   ]
  },
  {
   "cell_type": "code",
   "execution_count": 28,
   "metadata": {},
   "outputs": [
    {
     "data": {
      "image/png": "[encoded data removed]",
      "text/plain": [
       "<Figure size 432x288 with 2 Axes>"
      ]
     },
     "metadata": {
      "needs_background": "light"
     },
     "output_type": "display_data"
    }
   ],
   "source": [
    "import matplotlib.pyplot as plt\n",
    "\n",
    "# Plot the loss and accurac curves for training and validation\n",
    "\n",
    "fig, ax = plt.subplots(2, 1)\n",
    "ax[0].plot(history.history['loss'], color = 'b', label = \"Training loss\")\n",
    "ax[0].plot(history.history['val_loss'], color='r', label = \"validation loss\", axes = ax[0])\n",
    "legend = ax[0].legend(loc='best', shadow = True)\n",
    "\n",
    "ax[1].plot(history.history['accuracy'], color = 'b', label = \"Training accuracy\")\n",
    "ax[1].plot(history.history['val_accuracy'], color = 'r', label = \"Validation accuracy\")\n",
    "legend = ax[1].legend(loc = 'best', shadow = True)"
   ]
  },
  {
   "cell_type": "code",
   "execution_count": 32,
   "metadata": {},
   "outputs": [
    {
     "data": {
      "image/png": "[encoded data removed]",
      "text/plain": [
       "<Figure size 432x288 with 2 Axes>"
      ]
     },
     "metadata": {
      "needs_background": "light"
     },
     "output_type": "display_data"
    }
   ],
   "source": [
    "from sklearn.metrics import confusion_matrix\n",
    "\n",
    "# Look at confusion matrix\n",
    "\n",
    "\n",
    "def plot_confusion_matrix(cm, classes, normalize=False, title='Confusion matrix', cmap=plt.cm.Blues):\n",
    "    plt.imshow(cm, interpolation='nearest', cmap=cmap)\n",
    "    plt.title(title)\n",
    "    plt.colorbar()\n",
    "    tick_marks=np.arange(len(classes))\n",
    "    plt.xticks(tick_marks, classes, rotation=45)\n",
    "    plt.yticks(tick_marks, classes)\n",
    "    \n",
    "    if normalize:\n",
    "        cm = cm.astype('float') / cm.sum(axis=1)[:, np.newaxis]\n",
    "        \n",
    "    #thresh = cm.max() / 2.\n",
    "    #for i, j in itertools.product(range(cm.shape[0]), range(cm.shape[1])):\n",
    "    #\tplt.text(j, i, cm[i, j], horizontalalignment=\"center\", color=\"white\" if cm[i, j] > thresh else \"black\")\n",
    "\n",
    "    plt.tight_layout()\n",
    "    plt.ylabel('True label')\n",
    "    plt.xlabel('Predicted label')\n",
    "    \n",
    "# Predict the values from the validation dataset\n",
    "Y_pred = model.predict(x_test)\n",
    "# Convert predictions classes to one hot vectors\n",
    "Y_pred_classes = np.argmax(Y_pred, axis = 1)\n",
    "# Convert validation observations to one hot vectors\n",
    "Y_tru = np.argmax(y_test, axis = 1)\n",
    "# compute the confusion matrix\n",
    "confusion_mtx = confusion_matrix(Y_tru, Y_pred_classes)\n",
    "# plot the confusion matrix\n",
    "plot_confusion_matrix(confusion_mtx, classes = range(7))"
   ]
  },
  {
   "cell_type": "code",
   "execution_count": 35,
   "metadata": {},
   "outputs": [
    {
     "data": {
      "text/plain": [
       "array([[9.67784858e-22, 2.72294674e-20, 4.74871340e-16, 1.05874321e-16,\n",
       "        9.45715395e-10, 1.64438518e-27, 1.00000000e+00],\n",
       "       [9.99484599e-01, 1.44500746e-07, 5.55942722e-11, 5.15192864e-04,\n",
       "        1.18036695e-07, 1.20768000e-08, 9.68238645e-09],\n",
       "       [3.88344953e-17, 1.04630118e-13, 9.99999523e-01, 8.16901007e-17,\n",
       "        4.23882824e-07, 2.31324915e-08, 1.47615652e-11],\n",
       "       [1.25503811e-06, 1.69609102e-05, 2.89530471e-05, 5.08283584e-08,\n",
       "        1.05827157e-05, 9.99942303e-01, 7.05096606e-11],\n",
       "       [5.50522041e-12, 3.52484967e-05, 7.82806260e-18, 9.99946713e-01,\n",
       "        6.55663328e-08, 1.12379659e-12, 1.78964656e-05],\n",
       "       [1.36140246e-08, 1.82327700e-08, 1.14881949e-11, 1.74970823e-12,\n",
       "        3.03534115e-10, 1.00000000e+00, 2.02039828e-13],\n",
       "       [8.96054286e-10, 5.07466869e-09, 9.97929096e-01, 5.93469662e-10,\n",
       "        1.34486705e-03, 7.26020487e-04, 1.75593229e-08],\n",
       "       [1.84859289e-13, 7.42670465e-19, 4.28164417e-22, 9.99999881e-01,\n",
       "        7.88761838e-08, 7.39961551e-19, 8.69670280e-10],\n",
       "       [3.96180788e-12, 1.04635830e-13, 3.68998712e-07, 9.26263372e-11,\n",
       "        9.99969482e-01, 1.21851864e-14, 3.01245491e-05],\n",
       "       [2.88725897e-15, 1.60190805e-10, 1.08919069e-02, 4.60342798e-15,\n",
       "        4.02738201e-03, 8.78421786e-15, 9.85080659e-01],\n",
       "       [1.53375090e-11, 7.93185448e-11, 5.69067189e-12, 4.65476690e-14,\n",
       "        4.97923577e-11, 1.00000000e+00, 3.91443537e-14],\n",
       "       [3.74393221e-16, 1.92232433e-13, 9.99625206e-01, 2.36708651e-16,\n",
       "        3.74775584e-04, 4.61157883e-11, 1.01586881e-08],\n",
       "       [4.19612974e-07, 3.43615731e-08, 3.78564758e-12, 9.99225259e-01,\n",
       "        5.57619554e-04, 2.16527362e-04, 1.20191828e-07],\n",
       "       [1.17827062e-21, 2.99812771e-18, 2.19435841e-11, 2.92915574e-18,\n",
       "        2.22795826e-09, 3.08254572e-25, 1.00000000e+00],\n",
       "       [3.44593755e-05, 8.95180619e-06, 1.21659177e-05, 3.43178224e-04,\n",
       "        2.65709668e-01, 7.33880937e-01, 1.07310279e-05],\n",
       "       [5.07940713e-05, 1.36005852e-04, 1.36819843e-04, 2.78856896e-05,\n",
       "        9.98053908e-01, 1.23196543e-04, 1.47139293e-03],\n",
       "       [5.50147844e-04, 9.99449790e-01, 9.94649341e-09, 9.83979209e-09,\n",
       "        3.42706113e-10, 1.87679339e-09, 1.65185907e-10],\n",
       "       [2.29994801e-10, 8.76792264e-14, 4.87358307e-07, 6.76596366e-12,\n",
       "        9.99998450e-01, 6.01484695e-11, 1.02686465e-06],\n",
       "       [6.59806168e-11, 6.01657224e-10, 8.76732997e-09, 3.90956103e-08,\n",
       "        9.98605907e-01, 3.60685282e-09, 1.39410596e-03],\n",
       "       [6.77576324e-08, 1.08276152e-10, 9.42758634e-05, 7.76041986e-09,\n",
       "        9.99904394e-01, 6.46177511e-07, 5.68867506e-07],\n",
       "       [6.25569271e-07, 3.22925194e-11, 7.43799960e-16, 9.99990106e-01,\n",
       "        5.05902335e-06, 3.62232553e-12, 4.24850532e-06],\n",
       "       [3.99294971e-19, 1.00000000e+00, 4.65760521e-17, 2.15973750e-14,\n",
       "        3.81888286e-21, 9.57112996e-21, 4.50126809e-22],\n",
       "       [3.21893185e-12, 1.08577568e-12, 2.98945153e-08, 2.96249691e-09,\n",
       "        3.92735092e-05, 2.06497887e-15, 9.99960780e-01],\n",
       "       [4.34164453e-20, 1.00000000e+00, 4.80074749e-17, 1.07851045e-14,\n",
       "        2.53295531e-20, 4.89431974e-18, 1.09547797e-17],\n",
       "       [9.99901175e-01, 4.81639217e-09, 1.19956978e-11, 3.38399805e-05,\n",
       "        2.75853490e-05, 2.60706484e-10, 3.73939802e-05],\n",
       "       [5.41955335e-11, 1.00000000e+00, 2.12848541e-11, 1.85880022e-12,\n",
       "        5.37657763e-15, 7.18674981e-11, 2.18867987e-13],\n",
       "       [6.16896811e-10, 2.20892402e-12, 8.86889609e-07, 4.09358832e-12,\n",
       "        9.99996066e-01, 1.24152508e-10, 3.02453327e-06],\n",
       "       [4.42955681e-17, 9.50324115e-17, 1.32310770e-29, 9.99999881e-01,\n",
       "        4.28859309e-11, 2.46172033e-25, 1.48801917e-07],\n",
       "       [1.01337050e-09, 1.00000000e+00, 2.52645571e-10, 1.22862241e-11,\n",
       "        8.29732062e-13, 2.17192095e-13, 3.33385853e-13],\n",
       "       [1.64589886e-09, 2.62404792e-10, 1.27313586e-04, 5.34536027e-10,\n",
       "        9.74205971e-01, 7.31483207e-11, 2.56666616e-02],\n",
       "       [2.07177789e-10, 4.48065684e-13, 4.39974500e-21, 9.99999881e-01,\n",
       "        2.76526357e-08, 3.03088251e-15, 8.52688302e-08],\n",
       "       [1.83085351e-08, 2.86092039e-09, 7.06569175e-04, 8.92840930e-08,\n",
       "        7.24287748e-01, 2.75005609e-01, 5.31864330e-09],\n",
       "       [5.84808064e-16, 4.63671690e-21, 5.21349092e-28, 1.00000000e+00,\n",
       "        6.19838278e-11, 7.26207501e-25, 2.51823562e-10],\n",
       "       [2.52969593e-22, 9.06590861e-18, 1.00000000e+00, 2.71221206e-24,\n",
       "        5.20372856e-09, 1.26749700e-09, 4.22615881e-20],\n",
       "       [8.38874119e-23, 2.83024307e-15, 1.00000000e+00, 1.21293397e-22,\n",
       "        5.61685254e-10, 1.60440685e-13, 4.31338586e-13],\n",
       "       [1.83820546e-11, 7.38327247e-11, 2.38015173e-16, 9.99999762e-01,\n",
       "        2.92525243e-07, 4.92486965e-13, 8.65186145e-10],\n",
       "       [5.97080111e-19, 1.13947941e-13, 9.00629222e-01, 2.16992481e-20,\n",
       "        9.93708223e-02, 7.63445432e-14, 2.74353962e-09],\n",
       "       [5.09314127e-21, 1.84987422e-15, 9.99999881e-01, 1.65862456e-21,\n",
       "        6.11292350e-08, 1.19716901e-11, 2.98908305e-13],\n",
       "       [7.54458308e-01, 2.45526537e-01, 1.74968409e-06, 1.06085381e-05,\n",
       "        9.05525255e-08, 2.67121072e-06, 2.68633666e-08],\n",
       "       [5.66194418e-11, 1.43777752e-12, 1.85392306e-08, 4.60953288e-07,\n",
       "        9.99998569e-01, 1.46160783e-09, 9.44655483e-07],\n",
       "       [1.92417517e-07, 9.79895079e-14, 4.09544973e-20, 9.99995470e-01,\n",
       "        1.70643816e-07, 3.06731839e-17, 4.10753364e-06],\n",
       "       [1.47074331e-07, 3.65527553e-10, 5.75459494e-17, 1.52329346e-16,\n",
       "        9.67679441e-14, 9.99999881e-01, 2.91548571e-14],\n",
       "       [2.81063063e-23, 3.11898467e-20, 1.82882301e-16, 3.50731847e-14,\n",
       "        1.02135074e-15, 1.25436836e-23, 1.00000000e+00],\n",
       "       [1.10677789e-09, 4.17444412e-10, 1.52436656e-20, 9.99963641e-01,\n",
       "        1.02547629e-05, 9.93343165e-18, 2.60759061e-05],\n",
       "       [3.90455328e-13, 3.90845255e-12, 5.09433530e-23, 9.99998808e-01,\n",
       "        5.38591127e-09, 9.43199996e-20, 1.14447607e-06],\n",
       "       [4.82279126e-20, 5.46748502e-15, 9.99984264e-01, 5.81131135e-21,\n",
       "        1.57077993e-05, 5.13836716e-12, 1.62675026e-10],\n",
       "       [5.76095296e-08, 8.98299046e-10, 1.56284425e-08, 5.08718134e-04,\n",
       "        9.97667193e-01, 3.48640949e-10, 1.82416604e-03],\n",
       "       [6.65744820e-11, 4.24075532e-12, 3.97218406e-01, 1.38025823e-11,\n",
       "        6.02781534e-01, 1.35905953e-08, 1.20283147e-07],\n",
       "       [1.10668663e-13, 1.00000000e+00, 2.71057569e-12, 3.88204415e-13,\n",
       "        1.44306822e-15, 6.69363213e-15, 1.68685542e-15],\n",
       "       [2.17733730e-11, 4.04007956e-08, 3.45610551e-14, 1.06464672e-14,\n",
       "        4.06035340e-13, 1.00000000e+00, 2.47313309e-10],\n",
       "       [1.34581068e-16, 8.81259638e-13, 9.99976158e-01, 3.78066253e-15,\n",
       "        2.38978828e-05, 4.54133176e-09, 9.04276543e-10],\n",
       "       [4.82434974e-16, 6.62052607e-14, 9.99998093e-01, 1.95825187e-15,\n",
       "        1.04015635e-06, 8.07516699e-07, 9.90014277e-13],\n",
       "       [7.75297693e-09, 3.60875663e-10, 3.77802287e-08, 2.15431228e-05,\n",
       "        9.99742091e-01, 3.54067539e-11, 2.36346707e-04],\n",
       "       [6.81528429e-26, 7.81777496e-19, 8.94422642e-21, 1.33508738e-17,\n",
       "        3.00125220e-14, 7.18820663e-20, 1.00000000e+00],\n",
       "       [1.27044802e-06, 4.73969558e-05, 2.38718236e-08, 9.02320426e-06,\n",
       "        3.60759994e-04, 9.99581158e-01, 3.65698270e-07],\n",
       "       [1.54191149e-09, 1.93660235e-08, 9.91308272e-01, 3.70101438e-09,\n",
       "        8.66174046e-03, 9.14176496e-07, 2.91010292e-05],\n",
       "       [1.28239146e-23, 4.40981358e-18, 1.00000000e+00, 2.52154221e-24,\n",
       "        1.95402428e-09, 1.15009903e-11, 2.14783832e-17],\n",
       "       [1.01528579e-16, 1.24808167e-11, 3.21712461e-27, 1.00000000e+00,\n",
       "        6.90807220e-13, 1.88151540e-21, 7.66759722e-09],\n",
       "       [2.61867568e-13, 9.33671416e-08, 9.99951601e-01, 6.08053443e-14,\n",
       "        3.48525173e-05, 5.56503343e-10, 1.34771399e-05],\n",
       "       [2.23550588e-11, 1.00000000e+00, 1.64972118e-14, 1.06968621e-10,\n",
       "        3.01472578e-16, 1.06957438e-08, 2.29134772e-13],\n",
       "       [3.03645260e-12, 1.58245939e-07, 4.56311252e-14, 1.59782750e-13,\n",
       "        4.70311453e-14, 9.99999762e-01, 1.40505207e-07],\n",
       "       [3.57988337e-19, 6.48753249e-15, 9.99997973e-01, 5.87450178e-19,\n",
       "        2.06631103e-06, 4.98467326e-12, 1.36860204e-10],\n",
       "       [6.74210867e-15, 4.17897664e-14, 9.94654894e-01, 1.05365215e-14,\n",
       "        5.34509029e-03, 1.46920858e-08, 5.26167512e-11],\n",
       "       [4.32909649e-13, 1.60358784e-08, 1.90542146e-17, 9.17477633e-17,\n",
       "        1.87035192e-14, 1.00000000e+00, 1.02003911e-15],\n",
       "       [1.20072790e-14, 5.18189762e-11, 1.51921130e-22, 1.00000000e+00,\n",
       "        7.77842998e-11, 6.07467504e-18, 2.88107262e-08],\n",
       "       [8.82811012e-12, 9.99954224e-01, 1.90614262e-14, 4.57232018e-05,\n",
       "        8.06943650e-13, 1.23871213e-09, 1.09661413e-09],\n",
       "       [7.36601464e-03, 9.92632270e-01, 2.05823540e-07, 1.12834568e-08,\n",
       "        1.82836680e-11, 1.58161367e-06, 7.00881974e-12],\n",
       "       [2.56717222e-31, 2.60958257e-21, 2.41298721e-25, 3.99195172e-18,\n",
       "        1.87161142e-19, 7.59331554e-24, 1.00000000e+00],\n",
       "       [6.03763852e-03, 6.78496349e-07, 9.21487583e-07, 1.50334216e-07,\n",
       "        3.14414028e-05, 9.93929148e-01, 2.41739535e-08],\n",
       "       [3.27105482e-10, 1.24233979e-09, 3.15043032e-08, 5.08861753e-09,\n",
       "        3.83129809e-04, 8.37930663e-14, 9.99616921e-01],\n",
       "       [9.13028018e-08, 9.94730949e-01, 4.35633907e-12, 8.46255338e-04,\n",
       "        5.18436354e-06, 4.21606284e-03, 2.01465606e-04],\n",
       "       [8.00563449e-15, 4.77053618e-13, 9.98630047e-01, 2.44158200e-15,\n",
       "        1.36996037e-03, 2.96722713e-09, 2.32593744e-09],\n",
       "       [1.54378521e-24, 1.27631891e-16, 9.99998689e-01, 4.56734132e-27,\n",
       "        1.33274466e-06, 3.36974853e-17, 2.64382873e-12],\n",
       "       [1.48944835e-07, 1.61088085e-08, 3.68959741e-06, 2.48282158e-04,\n",
       "        9.99618113e-01, 1.31825254e-06, 1.28430853e-04],\n",
       "       [2.19905883e-18, 4.74024042e-16, 9.99977827e-01, 9.64637454e-19,\n",
       "        2.21649025e-05, 4.23087648e-10, 9.47037045e-13],\n",
       "       [1.24915411e-09, 6.84197273e-13, 2.67811083e-05, 8.19287953e-12,\n",
       "        9.99970555e-01, 2.32621023e-11, 2.65320386e-06],\n",
       "       [6.03107367e-07, 8.78319861e-06, 4.14122243e-11, 3.77458259e-10,\n",
       "        6.14420586e-08, 9.99990463e-01, 1.04222426e-08],\n",
       "       [9.99999046e-01, 4.32906234e-07, 9.92781857e-10, 2.71094535e-07,\n",
       "        3.24828306e-08, 2.47233601e-07, 1.21768473e-09],\n",
       "       [7.26061480e-15, 3.36820788e-14, 9.99939561e-01, 6.02702270e-15,\n",
       "        6.01075481e-05, 3.66435415e-07, 2.20029442e-12],\n",
       "       [9.96764779e-01, 4.99093971e-07, 1.67078991e-08, 1.84813398e-04,\n",
       "        2.02927645e-03, 3.84621615e-08, 1.02055050e-03],\n",
       "       [9.99998450e-01, 1.05132639e-10, 1.10323881e-14, 1.60795003e-06,\n",
       "        5.67583092e-10, 1.55405359e-11, 6.27760954e-10],\n",
       "       [1.87874262e-14, 1.96429651e-15, 5.83494798e-12, 3.40535044e-12,\n",
       "        5.76787352e-06, 8.06776631e-18, 9.99994278e-01],\n",
       "       [1.70350347e-06, 6.18090823e-08, 5.44873183e-04, 5.75003105e-05,\n",
       "        9.99151230e-01, 2.33457118e-04, 1.12747048e-05],\n",
       "       [6.43632536e-10, 3.63486637e-11, 1.54764950e-03, 7.02004177e-10,\n",
       "        9.98446047e-01, 2.71221605e-08, 6.38693155e-06],\n",
       "       [0.00000000e+00, 6.77285498e-34, 4.46329741e-34, 6.43709868e-24,\n",
       "        9.19943790e-29, 1.56569304e-35, 1.00000000e+00],\n",
       "       [2.05287803e-03, 3.66229302e-04, 9.52425552e-12, 9.97517347e-01,\n",
       "        7.02637408e-06, 5.88222576e-07, 5.59353284e-05],\n",
       "       [9.99974608e-01, 1.42639081e-10, 5.69564673e-14, 2.53704657e-05,\n",
       "        2.37086386e-08, 1.55882529e-10, 2.03629114e-08],\n",
       "       [7.50401192e-14, 4.73222225e-11, 7.03786433e-01, 2.49027941e-14,\n",
       "        2.96213448e-01, 3.24212532e-11, 1.15252639e-07],\n",
       "       [2.91913371e-14, 1.42081452e-16, 6.23509151e-25, 9.99999762e-01,\n",
       "        4.88140528e-10, 1.21207597e-21, 1.82522513e-07],\n",
       "       [3.01008845e-14, 1.02471403e-14, 9.78385389e-01, 4.34872475e-15,\n",
       "        2.16146503e-02, 3.59609631e-09, 3.32081862e-11],\n",
       "       [2.26084129e-09, 2.88899750e-01, 1.31466975e-17, 7.08571434e-01,\n",
       "        9.11480669e-08, 3.28809402e-09, 2.52875919e-03],\n",
       "       [6.79764022e-21, 9.99976873e-01, 4.40987868e-09, 2.36565038e-11,\n",
       "        5.24659831e-16, 2.82774238e-12, 2.31812064e-05],\n",
       "       [9.99995708e-01, 1.25611788e-09, 1.46597185e-13, 4.31936905e-06,\n",
       "        2.26720664e-09, 7.01849273e-11, 4.16681978e-09],\n",
       "       [2.27118571e-16, 4.44905346e-17, 2.97867431e-28, 9.99999762e-01,\n",
       "        2.97037811e-11, 5.50353623e-24, 2.39758407e-07],\n",
       "       [6.94792477e-13, 5.36928997e-16, 1.77266604e-11, 1.81317877e-11,\n",
       "        2.37550284e-03, 2.42172440e-20, 9.97624457e-01],\n",
       "       [2.91756445e-11, 3.05643531e-11, 1.25572184e-08, 1.12332025e-07,\n",
       "        9.99973893e-01, 6.84316276e-12, 2.59985482e-05],\n",
       "       [1.42586799e-07, 3.11749275e-08, 1.54897163e-03, 4.02113329e-07,\n",
       "        9.98389125e-01, 6.05585992e-05, 8.95619053e-07],\n",
       "       [9.99999881e-01, 2.17651700e-12, 1.50462119e-17, 6.47217391e-08,\n",
       "        2.21761984e-11, 8.87465611e-13, 1.96348382e-10],\n",
       "       [2.09143273e-05, 9.99976993e-01, 5.54904789e-09, 2.13131079e-06,\n",
       "        1.30251476e-10, 4.07201561e-08, 2.92472629e-10],\n",
       "       [9.25911091e-16, 1.92642690e-12, 5.48017810e-17, 1.46464345e-16,\n",
       "        2.41074738e-13, 1.00000000e+00, 3.09309700e-14],\n",
       "       [2.91001202e-28, 1.40974010e-17, 1.02028715e-11, 9.20542202e-25,\n",
       "        6.26954932e-09, 7.17523979e-28, 1.00000000e+00],\n",
       "       [8.13241797e-07, 1.18493604e-09, 6.31230255e-15, 9.99991059e-01,\n",
       "        6.54695350e-06, 2.56705157e-10, 1.62357890e-06],\n",
       "       [1.44680664e-14, 1.00000000e+00, 5.02244977e-17, 9.34479938e-10,\n",
       "        3.23083512e-18, 2.57079358e-10, 1.13262722e-14],\n",
       "       [9.99999404e-01, 3.20556748e-10, 2.22824316e-14, 6.13145573e-07,\n",
       "        1.60156999e-09, 2.33280652e-11, 5.63372327e-09],\n",
       "       [1.01029307e-18, 6.33582813e-13, 9.99996185e-01, 6.65967756e-21,\n",
       "        3.78919322e-06, 2.80751360e-11, 5.53808041e-12],\n",
       "       [1.98100876e-11, 2.26084707e-11, 5.18945198e-09, 4.16976490e-15,\n",
       "        2.98597036e-09, 1.00000000e+00, 1.40226007e-17],\n",
       "       [0.00000000e+00, 1.57960843e-30, 1.04305272e-30, 2.34982120e-21,\n",
       "        6.99519423e-30, 2.41683534e-32, 1.00000000e+00],\n",
       "       [4.39270452e-12, 1.34386502e-10, 3.19707531e-13, 2.23476371e-09,\n",
       "        6.12417494e-08, 9.99999881e-01, 2.97259405e-11],\n",
       "       [9.99999762e-01, 7.62068447e-12, 1.27061626e-16, 2.31326482e-07,\n",
       "        1.18183449e-10, 3.27810999e-12, 6.14265472e-10],\n",
       "       [2.19428684e-10, 5.98156871e-11, 1.70674436e-02, 1.36993056e-10,\n",
       "        9.82931733e-01, 1.82472704e-08, 8.23510561e-07],\n",
       "       [3.45966181e-12, 1.00000000e+00, 6.15105243e-13, 1.58813370e-12,\n",
       "        1.09377312e-15, 1.42332841e-13, 3.44197471e-15],\n",
       "       [1.74502524e-12, 8.52378207e-07, 8.38008702e-08, 1.17245627e-05,\n",
       "        2.82048043e-02, 5.75710255e-05, 9.71724868e-01],\n",
       "       [1.34231093e-09, 1.09249484e-11, 1.34115293e-16, 9.99999642e-01,\n",
       "        3.21779652e-07, 1.93891832e-13, 2.20341310e-08],\n",
       "       [9.99999642e-01, 9.78287520e-11, 3.14950080e-15, 3.26309191e-07,\n",
       "        1.06129876e-10, 7.60633050e-12, 1.61028177e-10],\n",
       "       [8.48275280e-13, 1.78193071e-09, 9.85413053e-12, 6.12144189e-15,\n",
       "        9.82382231e-12, 1.00000000e+00, 3.03427869e-14],\n",
       "       [3.10590651e-14, 5.32706934e-10, 9.56849710e-17, 4.23086499e-16,\n",
       "        4.54903639e-13, 1.00000000e+00, 2.98615695e-16],\n",
       "       [1.47224744e-09, 1.00000000e+00, 4.66883086e-12, 2.54129584e-09,\n",
       "        1.46362719e-15, 2.45306375e-09, 4.60482042e-14],\n",
       "       [2.79343656e-14, 3.06089861e-15, 3.81749707e-08, 6.90710293e-13,\n",
       "        9.99999881e-01, 7.55985511e-14, 1.11978927e-07],\n",
       "       [4.27958076e-22, 3.28585421e-17, 9.99999166e-01, 2.10897246e-23,\n",
       "        7.80863274e-07, 2.66851699e-14, 3.17959262e-14],\n",
       "       [2.33928787e-09, 4.97691281e-06, 1.32497501e-14, 1.42665576e-11,\n",
       "        3.03951447e-10, 9.99994993e-01, 2.46196702e-10],\n",
       "       [2.52746091e-09, 1.77908689e-07, 2.50627522e-11, 7.68194397e-10,\n",
       "        5.30831867e-09, 9.99999881e-01, 3.11293144e-11],\n",
       "       [9.80516557e-10, 9.99991059e-01, 2.52899345e-13, 6.32388577e-08,\n",
       "        1.10250893e-13, 8.81789947e-06, 3.91552311e-11],\n",
       "       [9.14291398e-09, 9.99999881e-01, 1.44978728e-07, 1.48026480e-08,\n",
       "        3.92941374e-10, 2.58586329e-11, 5.54876423e-11],\n",
       "       [9.99995232e-01, 5.72783287e-09, 3.16031879e-12, 4.70483246e-06,\n",
       "        1.32863063e-08, 1.50678126e-09, 4.84884977e-09],\n",
       "       [6.16475745e-07, 1.98159955e-06, 2.20375836e-01, 1.91351579e-09,\n",
       "        7.45881379e-01, 1.89663901e-04, 3.35505493e-02],\n",
       "       [1.15172552e-10, 7.23573491e-13, 5.50298758e-08, 4.15242347e-08,\n",
       "        9.99997377e-01, 2.81265115e-11, 2.57883676e-06],\n",
       "       [8.65478547e-23, 9.07546669e-23, 1.26270050e-15, 4.24701668e-20,\n",
       "        1.03461048e-07, 1.40410103e-29, 9.99999881e-01],\n",
       "       [2.10044560e-13, 1.53326104e-12, 9.99092579e-01, 2.95665185e-14,\n",
       "        9.06237052e-04, 1.14529075e-06, 2.94583975e-11],\n",
       "       [6.25276306e-12, 5.65602740e-13, 1.67082778e-10, 4.50594099e-17,\n",
       "        1.67466475e-11, 1.00000000e+00, 1.39928386e-14],\n",
       "       [1.33203528e-08, 8.07471645e-10, 1.14666385e-04, 9.70616227e-08,\n",
       "        9.99878645e-01, 1.06530988e-08, 6.57392775e-06],\n",
       "       [6.91209188e-13, 1.00000000e+00, 1.17473475e-14, 1.40485384e-11,\n",
       "        4.81254838e-18, 1.95792646e-10, 5.20178391e-16],\n",
       "       [5.26628696e-08, 3.21675984e-08, 2.19112239e-03, 1.69069579e-04,\n",
       "        9.97567654e-01, 4.08001979e-05, 3.13996497e-05],\n",
       "       [5.05025369e-22, 9.75581595e-13, 4.14777351e-05, 5.11766758e-20,\n",
       "        4.06555567e-10, 1.87645942e-21, 9.99958515e-01],\n",
       "       [4.17420605e-20, 3.12285521e-22, 1.94880328e-17, 6.54526711e-15,\n",
       "        2.70060641e-10, 1.25021289e-25, 1.00000000e+00],\n",
       "       [4.38119679e-10, 5.32074916e-16, 2.21877053e-23, 9.99999762e-01,\n",
       "        4.60211025e-09, 2.07004546e-19, 1.88804478e-07],\n",
       "       [1.10398461e-10, 9.99984264e-01, 6.10396201e-14, 1.56708156e-05,\n",
       "        2.84908519e-09, 5.22445109e-09, 6.01814136e-08],\n",
       "       [9.99998450e-01, 1.02377695e-09, 4.32252433e-13, 1.30536455e-06,\n",
       "        1.13442034e-07, 1.52999155e-10, 1.11863208e-07],\n",
       "       [5.79078829e-25, 3.47228288e-20, 3.62376194e-22, 9.49293075e-12,\n",
       "        2.78512175e-17, 2.82458097e-22, 1.00000000e+00],\n",
       "       [1.15716139e-08, 1.00516260e-07, 9.07013600e-17, 9.99936104e-01,\n",
       "        4.94750566e-07, 1.68177995e-16, 6.32854280e-05],\n",
       "       [2.34622793e-10, 1.19291114e-14, 3.25095996e-21, 9.99999762e-01,\n",
       "        4.57326941e-08, 7.98479894e-17, 2.22593187e-07]], dtype=float32)"
      ]
     },
     "execution_count": 35,
     "metadata": {},
     "output_type": "execute_result"
    }
   ],
   "source": [
    "Y_pred"
   ]
  },
  {
   "cell_type": "code",
   "execution_count": 36,
   "metadata": {},
   "outputs": [
    {
     "data": {
      "text/plain": [
       "<AxesSubplot:>"
      ]
     },
     "execution_count": 36,
     "metadata": {},
     "output_type": "execute_result"
    },
    {
     "data": {
      "image/png": "[encoded data removed]",
      "text/plain": [
       "<Figure size 432x288 with 2 Axes>"
      ]
     },
     "metadata": {
      "needs_background": "light"
     },
     "output_type": "display_data"
    }
   ],
   "source": [
    "from sklearn.metrics import confusion_matrix\n",
    "import pandas as pd\n",
    "import seaborn as sns\n",
    "\n",
    "classes = ['Conga&Bongo', 'Crash&OpenHat', 'Hi-Hat', 'Kick', 'Shaker', 'Snare', 'Tom']\n",
    "\n",
    "cm = pd.DataFrame(confusion_matrix(Y_tru, Y_pred_classes), columns=classes, index=classes)\n",
    "sns.heatmap(cm, annot=True)"
   ]
  },
  {
   "cell_type": "code",
   "execution_count": 21,
   "metadata": {},
   "outputs": [
    {
     "name": "stdout",
     "output_type": "stream",
     "text": [
      "1/5 [=====>........................] - ETA: 1s - loss: 0.3026 - accuracy: 0.8438"
     ]
    },
    {
     "name": "stderr",
     "output_type": "stream",
     "text": [
      "2022-05-20 19:51:24.028986: I tensorflow/core/grappler/optimizers/custom_graph_optimizer_registry.cc:113] Plugin optimizer for device_type GPU is enabled.\n"
     ]
    },
    {
     "name": "stdout",
     "output_type": "stream",
     "text": [
      "5/5 [==============================] - 1s 135ms/step - loss: 0.2785 - accuracy: 0.9214\n"
     ]
    },
    {
     "data": {
      "text/plain": [
       "[0.27846866846084595, 0.9214285612106323]"
      ]
     },
     "execution_count": 21,
     "metadata": {},
     "output_type": "execute_result"
    }
   ],
   "source": [
    "model.evaluate(x_test, y_test)"
   ]
  },
  {
   "cell_type": "code",
   "execution_count": 22,
   "metadata": {},
   "outputs": [],
   "source": [
    "probability_model = tf.keras.Sequential([model, \n",
    "                                         tf.keras.layers.Softmax()])"
   ]
  },
  {
   "cell_type": "code",
   "execution_count": 124,
   "metadata": {},
   "outputs": [],
   "source": [
    "predict = probability_model.predict(x_test)"
   ]
  },
  {
   "cell_type": "code",
   "execution_count": 129,
   "metadata": {},
   "outputs": [
    {
     "data": {
      "text/plain": [
       "3"
      ]
     },
     "execution_count": 129,
     "metadata": {},
     "output_type": "execute_result"
    }
   ],
   "source": [
    "np.argmax(predict[0])"
   ]
  },
  {
   "cell_type": "code",
   "execution_count": 130,
   "metadata": {},
   "outputs": [
    {
     "data": {
      "text/plain": [
       "3.0"
      ]
     },
     "execution_count": 130,
     "metadata": {},
     "output_type": "execute_result"
    }
   ],
   "source": [
    "yy_test[0]"
   ]
  },
  {
   "cell_type": "code",
   "execution_count": 135,
   "metadata": {},
   "outputs": [
    {
     "ename": "InvalidArgumentError",
     "evalue": "Shapes of all inputs must match: values[0].shape = [140] != values[1].shape = [140,7] [Op:Pack] name: stack",
     "output_type": "error",
     "traceback": [
      "\u001b[1;31m---------------------------------------------------------------------------\u001b[0m",
      "\u001b[1;31mInvalidArgumentError\u001b[0m                      Traceback (most recent call last)",
      "\u001b[1;32m~\\AppData\\Local\\Temp/ipykernel_36180/3303177071.py\u001b[0m in \u001b[0;36m<module>\u001b[1;34m\u001b[0m\n\u001b[1;32m----> 1\u001b[1;33m tf.math.confusion_matrix(\n\u001b[0m\u001b[0;32m      2\u001b[0m     \u001b[0mlabels\u001b[0m\u001b[1;33m=\u001b[0m\u001b[0myy_test\u001b[0m\u001b[1;33m,\u001b[0m\u001b[1;33m\u001b[0m\u001b[1;33m\u001b[0m\u001b[0m\n\u001b[0;32m      3\u001b[0m     \u001b[0mpredictions\u001b[0m\u001b[1;33m=\u001b[0m\u001b[0mpredict\u001b[0m\u001b[1;33m\u001b[0m\u001b[1;33m\u001b[0m\u001b[0m\n\u001b[0;32m      4\u001b[0m )\n",
      "\u001b[1;32mc:\\Users\\cid2r\\anaconda3\\lib\\site-packages\\tensorflow\\python\\util\\traceback_utils.py\u001b[0m in \u001b[0;36merror_handler\u001b[1;34m(*args, **kwargs)\u001b[0m\n\u001b[0;32m    151\u001b[0m     \u001b[1;32mexcept\u001b[0m \u001b[0mException\u001b[0m \u001b[1;32mas\u001b[0m \u001b[0me\u001b[0m\u001b[1;33m:\u001b[0m\u001b[1;33m\u001b[0m\u001b[1;33m\u001b[0m\u001b[0m\n\u001b[0;32m    152\u001b[0m       \u001b[0mfiltered_tb\u001b[0m \u001b[1;33m=\u001b[0m \u001b[0m_process_traceback_frames\u001b[0m\u001b[1;33m(\u001b[0m\u001b[0me\u001b[0m\u001b[1;33m.\u001b[0m\u001b[0m__traceback__\u001b[0m\u001b[1;33m)\u001b[0m\u001b[1;33m\u001b[0m\u001b[1;33m\u001b[0m\u001b[0m\n\u001b[1;32m--> 153\u001b[1;33m       \u001b[1;32mraise\u001b[0m \u001b[0me\u001b[0m\u001b[1;33m.\u001b[0m\u001b[0mwith_traceback\u001b[0m\u001b[1;33m(\u001b[0m\u001b[0mfiltered_tb\u001b[0m\u001b[1;33m)\u001b[0m \u001b[1;32mfrom\u001b[0m \u001b[1;32mNone\u001b[0m\u001b[1;33m\u001b[0m\u001b[1;33m\u001b[0m\u001b[0m\n\u001b[0m\u001b[0;32m    154\u001b[0m     \u001b[1;32mfinally\u001b[0m\u001b[1;33m:\u001b[0m\u001b[1;33m\u001b[0m\u001b[1;33m\u001b[0m\u001b[0m\n\u001b[0;32m    155\u001b[0m       \u001b[1;32mdel\u001b[0m \u001b[0mfiltered_tb\u001b[0m\u001b[1;33m\u001b[0m\u001b[1;33m\u001b[0m\u001b[0m\n",
      "\u001b[1;32mc:\\Users\\cid2r\\anaconda3\\lib\\site-packages\\tensorflow\\python\\framework\\ops.py\u001b[0m in \u001b[0;36mraise_from_not_ok_status\u001b[1;34m(e, name)\u001b[0m\n\u001b[0;32m   7184\u001b[0m \u001b[1;32mdef\u001b[0m \u001b[0mraise_from_not_ok_status\u001b[0m\u001b[1;33m(\u001b[0m\u001b[0me\u001b[0m\u001b[1;33m,\u001b[0m \u001b[0mname\u001b[0m\u001b[1;33m)\u001b[0m\u001b[1;33m:\u001b[0m\u001b[1;33m\u001b[0m\u001b[1;33m\u001b[0m\u001b[0m\n\u001b[0;32m   7185\u001b[0m   \u001b[0me\u001b[0m\u001b[1;33m.\u001b[0m\u001b[0mmessage\u001b[0m \u001b[1;33m+=\u001b[0m \u001b[1;33m(\u001b[0m\u001b[1;34m\" name: \"\u001b[0m \u001b[1;33m+\u001b[0m \u001b[0mname\u001b[0m \u001b[1;32mif\u001b[0m \u001b[0mname\u001b[0m \u001b[1;32mis\u001b[0m \u001b[1;32mnot\u001b[0m \u001b[1;32mNone\u001b[0m \u001b[1;32melse\u001b[0m \u001b[1;34m\"\"\u001b[0m\u001b[1;33m)\u001b[0m\u001b[1;33m\u001b[0m\u001b[1;33m\u001b[0m\u001b[0m\n\u001b[1;32m-> 7186\u001b[1;33m   \u001b[1;32mraise\u001b[0m \u001b[0mcore\u001b[0m\u001b[1;33m.\u001b[0m\u001b[0m_status_to_exception\u001b[0m\u001b[1;33m(\u001b[0m\u001b[0me\u001b[0m\u001b[1;33m)\u001b[0m \u001b[1;32mfrom\u001b[0m \u001b[1;32mNone\u001b[0m  \u001b[1;31m# pylint: disable=protected-access\u001b[0m\u001b[1;33m\u001b[0m\u001b[1;33m\u001b[0m\u001b[0m\n\u001b[0m\u001b[0;32m   7187\u001b[0m \u001b[1;33m\u001b[0m\u001b[0m\n\u001b[0;32m   7188\u001b[0m \u001b[1;33m\u001b[0m\u001b[0m\n",
      "\u001b[1;31mInvalidArgumentError\u001b[0m: Shapes of all inputs must match: values[0].shape = [140] != values[1].shape = [140,7] [Op:Pack] name: stack"
     ]
    }
   ],
   "source": [
    "tf.math.confusion_matrix(\n",
    "    labels=yy_test,\n",
    "    predictions=predict\n",
    ")"
   ]
  },
  {
   "cell_type": "code",
   "execution_count": null,
   "metadata": {},
   "outputs": [],
   "source": []
  }
 ],
 "metadata": {
  "interpreter": {
   "hash": "36975e2464779a1907498622a1ff8d141cf5663f65c7cf0c02ae689c8b788bad"
  },
  "kernelspec": {
   "display_name": "Python 3.9.12",
   "language": "python",
   "name": "python3"
  },
  "language_info": {
   "codemirror_mode": {
    "name": "ipython",
    "version": 3
   },
   "file_extension": ".py",
   "mimetype": "text/x-python",
   "name": "python",
   "nbconvert_exporter": "python",
   "pygments_lexer": "ipython3",
   "version": "3.9.12"
  },
  "orig_nbformat": 4
 },
 "nbformat": 4,
 "nbformat_minor": 2
}
