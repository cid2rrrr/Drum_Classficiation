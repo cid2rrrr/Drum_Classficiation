{
 "cells": [
  {
   "cell_type": "code",
   "execution_count": 1,
   "metadata": {},
   "outputs": [],
   "source": [
    "import librosa\n",
    "import librosa.display\n",
    "import numpy as np"
   ]
  },
  {
   "cell_type": "code",
   "execution_count": 2,
   "metadata": {},
   "outputs": [],
   "source": [
    "CNN_INPUT_SIZE = (128, 20)\n",
    "DEFAULT_SR = 22050"
   ]
  },
  {
   "cell_type": "code",
   "execution_count": 3,
   "metadata": {},
   "outputs": [],
   "source": [
    "def resize_axis(array, N):\n",
    "    if(array.shape[1] > N):\n",
    "        resized = array[:,:N]\n",
    "    else:\n",
    "        resized = np.lib.pad(array, ((0,0),(0,N - array.shape[1])),\\\n",
    "            'constant', constant_values=(np.min(array)))\n",
    "    return resized"
   ]
  },
  {
   "cell_type": "code",
   "execution_count": 4,
   "metadata": {},
   "outputs": [],
   "source": [
    "def extract_cnn_input(raw_audio):\n",
    "    frame_length = min(2048, len(raw_audio))\n",
    "    mel_spec = librosa.core.power_to_db(librosa.feature.melspectrogram(\n",
    "        y=raw_audio, sr=DEFAULT_SR, n_fft=frame_length,\n",
    "        hop_length=frame_length//4, n_mels=CNN_INPUT_SIZE[0])\n",
    "    )\n",
    "    # Truncate number of frames stored\n",
    "    m = min(CNN_INPUT_SIZE[1], mel_spec.shape[1])\n",
    "    N =20\n",
    "    mell = resize_axis(mel_spec[:, 0:m], N)\n",
    "    return mell"
   ]
  },
  {
   "cell_type": "markdown",
   "metadata": {},
   "source": [
    "---"
   ]
  },
  {
   "cell_type": "code",
   "execution_count": 5,
   "metadata": {},
   "outputs": [],
   "source": [
    "import os\n",
    "\n",
    "def onehot(str):\n",
    "    path = './Drum'\n",
    "    kits = os.listdir(path)\n",
    "    #kits.remove('.DS_Store')\n",
    "    \n",
    "    oh = []\n",
    "\n",
    "    for kit in kits:\n",
    "        if str == kit:\n",
    "            oh.append(1)\n",
    "        else:\n",
    "            oh.append(0)\n",
    "    \n",
    "    return np.array(oh)"
   ]
  },
  {
   "cell_type": "code",
   "execution_count": 7,
   "metadata": {},
   "outputs": [],
   "source": [
    "#path = 'Drum\\Snare\\9th Snare 38.wav'\n",
    "\n",
    "y_label = None\n",
    "x_label = None\n",
    "\n",
    "drumkit_path = './Drum'\n",
    "kits = os.listdir(drumkit_path)\n",
    "\n",
    "for kit in kits:\n",
    "    path = os.path.join(drumkit_path, kit)\n",
    "    sounds = os.listdir(path)\n",
    "    \n",
    "    for sound in sounds:\n",
    "        wavfile = os.path.join(path, sound)\n",
    "        y, sr = librosa.load(wavfile)\n",
    "        yt, index = librosa.effects.trim(y=y, top_db=30)\n",
    "        yt = librosa.util.normalize(yt)\n",
    "        k = extract_cnn_input(yt)\n",
    "        k = np.expand_dims(k, axis=0)\n",
    "        \n",
    "        typ = onehot(kit)\n",
    "        typ = np.expand_dims(typ, axis=0)\n",
    "        \n",
    "        if x_label is None:\n",
    "            x_label = k.copy()\n",
    "            y_label = typ.copy()\n",
    "        else:\n",
    "            x_label = np.concatenate((x_label, k), axis=0)\n",
    "            y_label = np.concatenate((y_label, typ), axis=0)\n",
    "        \n",
    "        "
   ]
  },
  {
   "cell_type": "code",
   "execution_count": 9,
   "metadata": {},
   "outputs": [],
   "source": [
    "from sklearn.model_selection import train_test_split\n",
    "\n",
    "x_train, x_test, y_train, y_test = train_test_split(x_label, y_label, test_size=0.2)"
   ]
  },
  {
   "cell_type": "markdown",
   "metadata": {},
   "source": [
    "---"
   ]
  },
  {
   "cell_type": "code",
   "execution_count": 12,
   "metadata": {},
   "outputs": [],
   "source": [
    "import tensorflow as tf\n",
    "from tensorflow.keras import datasets, layers, models"
   ]
  },
  {
   "cell_type": "code",
   "execution_count": 13,
   "metadata": {},
   "outputs": [],
   "source": [
    "model = models.Sequential()\n",
    "model.add(layers.Conv2D(32, (3, 3), activation='relu', input_shape=(128, 20,1)))\n",
    "model.add(layers.MaxPooling2D())\n",
    "model.add(layers.Conv2D(64, (3, 3), activation='relu'))\n",
    "model.add(layers.MaxPooling2D())\n",
    "model.add(layers.Conv2D(64, (3, 3), activation='relu'))\n",
    "model.add(layers.Flatten())\n",
    "model.add(layers.Dense(32, activation='relu'))\n",
    "model.add(layers.Dense(7, activation='softmax'))"
   ]
  },
  {
   "cell_type": "code",
   "execution_count": 14,
   "metadata": {},
   "outputs": [
    {
     "name": "stdout",
     "output_type": "stream",
     "text": [
      "Epoch 1/20\n",
      "14/14 [==============================] - 2s 21ms/step - loss: 2.3486 - accuracy: 0.2656 - val_loss: 1.5511 - val_accuracy: 0.3125\n",
      "Epoch 2/20\n",
      "14/14 [==============================] - 0s 7ms/step - loss: 1.1918 - accuracy: 0.6138 - val_loss: 1.1209 - val_accuracy: 0.5893\n",
      "Epoch 3/20\n",
      "14/14 [==============================] - 0s 7ms/step - loss: 0.7328 - accuracy: 0.7679 - val_loss: 0.7418 - val_accuracy: 0.7589\n",
      "Epoch 4/20\n",
      "14/14 [==============================] - 0s 7ms/step - loss: 0.5559 - accuracy: 0.8036 - val_loss: 0.7204 - val_accuracy: 0.7679\n",
      "Epoch 5/20\n",
      "14/14 [==============================] - 0s 7ms/step - loss: 0.3791 - accuracy: 0.8728 - val_loss: 0.6160 - val_accuracy: 0.8125\n",
      "Epoch 6/20\n",
      "14/14 [==============================] - 0s 7ms/step - loss: 0.3154 - accuracy: 0.8817 - val_loss: 0.5678 - val_accuracy: 0.8036\n",
      "Epoch 7/20\n",
      "14/14 [==============================] - 0s 7ms/step - loss: 0.2465 - accuracy: 0.9263 - val_loss: 0.5526 - val_accuracy: 0.8125\n",
      "Epoch 8/20\n",
      "14/14 [==============================] - 0s 7ms/step - loss: 0.2464 - accuracy: 0.9085 - val_loss: 0.4481 - val_accuracy: 0.8393\n",
      "Epoch 9/20\n",
      "14/14 [==============================] - 0s 7ms/step - loss: 0.1903 - accuracy: 0.9219 - val_loss: 0.4578 - val_accuracy: 0.8393\n",
      "Epoch 10/20\n",
      "14/14 [==============================] - 0s 7ms/step - loss: 0.2010 - accuracy: 0.9241 - val_loss: 0.6809 - val_accuracy: 0.8125\n",
      "Epoch 11/20\n",
      "14/14 [==============================] - 0s 7ms/step - loss: 0.1672 - accuracy: 0.9330 - val_loss: 0.4867 - val_accuracy: 0.8750\n",
      "Epoch 12/20\n",
      "14/14 [==============================] - 0s 7ms/step - loss: 0.1190 - accuracy: 0.9554 - val_loss: 0.4616 - val_accuracy: 0.8482\n",
      "Epoch 13/20\n",
      "14/14 [==============================] - 0s 7ms/step - loss: 0.1084 - accuracy: 0.9576 - val_loss: 0.5107 - val_accuracy: 0.8929\n",
      "Epoch 14/20\n",
      "14/14 [==============================] - 0s 7ms/step - loss: 0.0657 - accuracy: 0.9777 - val_loss: 0.5008 - val_accuracy: 0.8750\n",
      "Epoch 15/20\n",
      "14/14 [==============================] - 0s 7ms/step - loss: 0.0678 - accuracy: 0.9777 - val_loss: 0.4983 - val_accuracy: 0.8839\n",
      "Epoch 16/20\n",
      "14/14 [==============================] - 0s 7ms/step - loss: 0.0496 - accuracy: 0.9911 - val_loss: 0.4889 - val_accuracy: 0.8929\n",
      "Epoch 17/20\n",
      "14/14 [==============================] - 0s 7ms/step - loss: 0.0414 - accuracy: 0.9911 - val_loss: 0.4714 - val_accuracy: 0.8661\n",
      "Epoch 18/20\n",
      "14/14 [==============================] - 0s 7ms/step - loss: 0.0366 - accuracy: 0.9888 - val_loss: 0.4650 - val_accuracy: 0.9018\n",
      "Epoch 19/20\n",
      "14/14 [==============================] - 0s 7ms/step - loss: 0.0283 - accuracy: 0.9933 - val_loss: 0.5142 - val_accuracy: 0.8750\n",
      "Epoch 20/20\n",
      "14/14 [==============================] - 0s 8ms/step - loss: 0.0264 - accuracy: 0.9955 - val_loss: 0.5742 - val_accuracy: 0.8661\n"
     ]
    }
   ],
   "source": [
    "model.compile(optimizer='adam',\n",
    "              loss=tf.keras.losses.categorical_crossentropy,\n",
    "              metrics=['accuracy'])\n",
    "\n",
    "history = model.fit(x_train, y_train, epochs=20, validation_split=0.2)"
   ]
  },
  {
   "cell_type": "code",
   "execution_count": 15,
   "metadata": {},
   "outputs": [
    {
     "data": {
      "image/png": "[encoded data removed]",
      "text/plain": [
       "<Figure size 432x288 with 2 Axes>"
      ]
     },
     "metadata": {
      "needs_background": "light"
     },
     "output_type": "display_data"
    }
   ],
   "source": [
    "import matplotlib.pyplot as plt\n",
    "\n",
    "# Plot the loss and accurac curves for training and validation\n",
    "\n",
    "fig, ax = plt.subplots(2, 1)\n",
    "ax[0].plot(history.history['loss'], color = 'b', label = \"Training loss\")\n",
    "ax[0].plot(history.history['val_loss'], color='r', label = \"validation loss\", axes = ax[0])\n",
    "legend = ax[0].legend(loc='best', shadow = True)\n",
    "\n",
    "ax[1].plot(history.history['accuracy'], color = 'b', label = \"Training accuracy\")\n",
    "ax[1].plot(history.history['val_accuracy'], color = 'r', label = \"Validation accuracy\")\n",
    "legend = ax[1].legend(loc = 'best', shadow = True)"
   ]
  },
  {
   "cell_type": "code",
   "execution_count": 16,
   "metadata": {},
   "outputs": [],
   "source": [
    "Y_pred = model.predict(x_test)\n",
    "Y_pred_classes = np.argmax(Y_pred, axis = 1)\n",
    "\n",
    "Y_Lab = np.argmax(y_test, axis = 1)"
   ]
  },
  {
   "cell_type": "code",
   "execution_count": 17,
   "metadata": {},
   "outputs": [
    {
     "data": {
      "text/plain": [
       "<AxesSubplot:>"
      ]
     },
     "execution_count": 17,
     "metadata": {},
     "output_type": "execute_result"
    },
    {
     "data": {
      "image/png": "[encoded data removed]",
      "text/plain": [
       "<Figure size 432x288 with 2 Axes>"
      ]
     },
     "metadata": {
      "needs_background": "light"
     },
     "output_type": "display_data"
    }
   ],
   "source": [
    "from sklearn.metrics import confusion_matrix\n",
    "import pandas as pd\n",
    "import seaborn as sns\n",
    "\n",
    "classes = ['Conga&Bongo', 'Crash&OpenHat', 'Hi-Hat', 'Kick', 'Shaker', 'Snare', 'Tom']\n",
    "\n",
    "cm = pd.DataFrame(confusion_matrix(Y_Lab, Y_pred_classes), columns=classes, index=classes)\n",
    "sns.heatmap(cm, annot=True)"
   ]
  },
  {
   "cell_type": "code",
   "execution_count": null,
   "metadata": {},
   "outputs": [],
   "source": []
  }
 ],
 "metadata": {
  "interpreter": {
   "hash": "9cda7dce2d78f3c21f6a73de63970ac35274352b7a0f13225446d99cae259cfd"
  },
  "kernelspec": {
   "display_name": "Python 3.9.7 ('base')",
   "language": "python",
   "name": "python3"
  },
  "language_info": {
   "codemirror_mode": {
    "name": "ipython",
    "version": 3
   },
   "file_extension": ".py",
   "mimetype": "text/x-python",
   "name": "python",
   "nbconvert_exporter": "python",
   "pygments_lexer": "ipython3",
   "version": "3.9.7"
  },
  "orig_nbformat": 4
 },
 "nbformat": 4,
 "nbformat_minor": 2
}
