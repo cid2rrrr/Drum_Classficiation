{
 "cells": [
  {
   "cell_type": "code",
   "execution_count": 7,
   "metadata": {},
   "outputs": [],
   "source": [
    "import librosa\n",
    "import librosa.display\n",
    "import numpy as np"
   ]
  },
  {
   "cell_type": "code",
   "execution_count": 8,
   "metadata": {},
   "outputs": [],
   "source": [
    "CNN_INPUT_SIZE = (128, 20)\n",
    "DEFAULT_SR = 22050"
   ]
  },
  {
   "cell_type": "code",
   "execution_count": 9,
   "metadata": {},
   "outputs": [],
   "source": [
    "def resize_axis(array, N):\n",
    "    if(array.shape[1] > N):\n",
    "        resized = array[:,:N]\n",
    "    else:\n",
    "        resized = np.lib.pad(array, ((0,0),(0,N - array.shape[1])),\\\n",
    "            'constant', constant_values=(np.min(array)))\n",
    "    return resized"
   ]
  },
  {
   "cell_type": "code",
   "execution_count": 10,
   "metadata": {},
   "outputs": [],
   "source": [
    "def extract_cnn_input(raw_audio):\n",
    "    frame_length = min(2048, len(raw_audio))\n",
    "    mel_spec = librosa.core.power_to_db(librosa.feature.melspectrogram(\n",
    "        y=raw_audio, sr=DEFAULT_SR, n_fft=frame_length,\n",
    "        hop_length=frame_length//4, n_mels=CNN_INPUT_SIZE[0])\n",
    "    )\n",
    "    # Truncate number of frames stored\n",
    "    m = min(CNN_INPUT_SIZE[1], mel_spec.shape[1])\n",
    "    N =20\n",
    "    mell = resize_axis(mel_spec[:, 0:m], N)\n",
    "    return mell"
   ]
  },
  {
   "cell_type": "markdown",
   "metadata": {},
   "source": [
    "---"
   ]
  },
  {
   "cell_type": "code",
   "execution_count": 11,
   "metadata": {},
   "outputs": [],
   "source": [
    "import os\n",
    "\n",
    "def onehot(str):\n",
    "    path = './Drum'\n",
    "    kits = os.listdir(path)\n",
    "    #kits.remove('.DS_Store')\n",
    "    \n",
    "    oh = []\n",
    "\n",
    "    for kit in kits:\n",
    "        if str == kit:\n",
    "            oh.append(1)\n",
    "        else:\n",
    "            oh.append(0)\n",
    "    \n",
    "    return np.array(oh)"
   ]
  },
  {
   "cell_type": "code",
   "execution_count": 12,
   "metadata": {},
   "outputs": [
    {
     "name": "stderr",
     "output_type": "stream",
     "text": [
      "/Users/cooky/miniforge3/lib/python3.9/site-packages/librosa/util/decorators.py:88: UserWarning: Empty filters detected in mel frequency basis. Some channels will produce empty responses. Try increasing your sampling rate (and fmax) or reducing n_mels.\n",
      "  return f(*args, **kwargs)\n"
     ]
    }
   ],
   "source": [
    "#path = 'Drum\\Snare\\9th Snare 38.wav'\n",
    "\n",
    "y_label = None\n",
    "x_label = None\n",
    "\n",
    "drumkit_path = './Drum'\n",
    "kits = os.listdir(drumkit_path)\n",
    "\n",
    "for kit in kits:\n",
    "    path = os.path.join(drumkit_path, kit)\n",
    "    sounds = os.listdir(path)\n",
    "    \n",
    "    for sound in sounds:\n",
    "        wavfile = os.path.join(path, sound)\n",
    "        y, sr = librosa.load(wavfile)\n",
    "        yt, index = librosa.effects.trim(y=y, top_db=30)\n",
    "        yt = librosa.util.normalize(yt)\n",
    "        k = extract_cnn_input(yt)\n",
    "        k = np.expand_dims(k, axis=0)\n",
    "        \n",
    "        typ = onehot(kit)\n",
    "        typ = np.expand_dims(typ, axis=0)\n",
    "        \n",
    "        if x_label is None:\n",
    "            x_label = k.copy()\n",
    "            y_label = typ.copy()\n",
    "        else:\n",
    "            x_label = np.concatenate((x_label, k), axis=0)\n",
    "            y_label = np.concatenate((y_label, typ), axis=0)\n",
    "        \n",
    "        "
   ]
  },
  {
   "cell_type": "code",
   "execution_count": 53,
   "metadata": {},
   "outputs": [],
   "source": [
    "from sklearn.model_selection import train_test_split\n",
    "\n",
    "x_train, x_test, y_train, y_test = train_test_split(x_label, y_label, test_size=0.2, random_state=1234, stratify=y_label)"
   ]
  },
  {
   "cell_type": "markdown",
   "metadata": {},
   "source": [
    "---"
   ]
  },
  {
   "cell_type": "code",
   "execution_count": 54,
   "metadata": {},
   "outputs": [],
   "source": [
    "import tensorflow as tf\n",
    "from tensorflow.keras import datasets, layers, models"
   ]
  },
  {
   "cell_type": "code",
   "execution_count": 55,
   "metadata": {},
   "outputs": [],
   "source": [
    "model = models.Sequential()\n",
    "model.add(layers.Conv2D(32, (3, 3), activation='relu', input_shape=(128, 20,1)))\n",
    "model.add(layers.MaxPooling2D())\n",
    "model.add(layers.Conv2D(64, (3, 3), activation='relu'))\n",
    "model.add(layers.MaxPooling2D())\n",
    "model.add(layers.Conv2D(64, (3, 3), activation='relu'))\n",
    "model.add(layers.Flatten())\n",
    "model.add(layers.Dense(32, activation='relu'))\n",
    "model.add(layers.Dense(7, activation='softmax'))"
   ]
  },
  {
   "cell_type": "code",
   "execution_count": 56,
   "metadata": {},
   "outputs": [
    {
     "name": "stdout",
     "output_type": "stream",
     "text": [
      "Epoch 1/20\n",
      " 1/14 [=>............................] - ETA: 5s - loss: 4.9084 - accuracy: 0.2188"
     ]
    },
    {
     "name": "stderr",
     "output_type": "stream",
     "text": [
      "2022-06-01 15:35:12.965511: I tensorflow/core/grappler/optimizers/custom_graph_optimizer_registry.cc:113] Plugin optimizer for device_type GPU is enabled.\n"
     ]
    },
    {
     "name": "stdout",
     "output_type": "stream",
     "text": [
      "14/14 [==============================] - 1s 39ms/step - loss: 2.6178 - accuracy: 0.2701 - val_loss: 1.6409 - val_accuracy: 0.4018\n",
      "Epoch 2/20\n",
      " 1/14 [=>............................] - ETA: 0s - loss: 1.6476 - accuracy: 0.3438"
     ]
    },
    {
     "name": "stderr",
     "output_type": "stream",
     "text": [
      "2022-06-01 15:35:13.500704: I tensorflow/core/grappler/optimizers/custom_graph_optimizer_registry.cc:113] Plugin optimizer for device_type GPU is enabled.\n"
     ]
    },
    {
     "name": "stdout",
     "output_type": "stream",
     "text": [
      "14/14 [==============================] - 0s 21ms/step - loss: 1.3925 - accuracy: 0.4933 - val_loss: 1.2411 - val_accuracy: 0.5446\n",
      "Epoch 3/20\n",
      "14/14 [==============================] - 0s 23ms/step - loss: 1.0118 - accuracy: 0.6540 - val_loss: 0.7153 - val_accuracy: 0.8036\n",
      "Epoch 4/20\n",
      "14/14 [==============================] - 0s 24ms/step - loss: 0.7611 - accuracy: 0.7366 - val_loss: 0.6008 - val_accuracy: 0.7857\n",
      "Epoch 5/20\n",
      "14/14 [==============================] - 0s 21ms/step - loss: 0.5220 - accuracy: 0.8326 - val_loss: 0.4704 - val_accuracy: 0.8036\n",
      "Epoch 6/20\n",
      "14/14 [==============================] - 0s 20ms/step - loss: 0.4553 - accuracy: 0.8527 - val_loss: 0.3752 - val_accuracy: 0.8304\n",
      "Epoch 7/20\n",
      "14/14 [==============================] - 0s 20ms/step - loss: 0.3877 - accuracy: 0.8683 - val_loss: 0.3869 - val_accuracy: 0.8304\n",
      "Epoch 8/20\n",
      "14/14 [==============================] - 0s 19ms/step - loss: 0.2738 - accuracy: 0.9107 - val_loss: 0.4618 - val_accuracy: 0.8304\n",
      "Epoch 9/20\n",
      "14/14 [==============================] - 0s 20ms/step - loss: 0.2681 - accuracy: 0.9063 - val_loss: 0.4313 - val_accuracy: 0.8482\n",
      "Epoch 10/20\n",
      "14/14 [==============================] - 0s 21ms/step - loss: 0.2151 - accuracy: 0.9353 - val_loss: 0.3725 - val_accuracy: 0.8571\n",
      "Epoch 11/20\n",
      "14/14 [==============================] - 0s 20ms/step - loss: 0.1850 - accuracy: 0.9286 - val_loss: 0.3280 - val_accuracy: 0.8839\n",
      "Epoch 12/20\n",
      "14/14 [==============================] - 0s 20ms/step - loss: 0.1653 - accuracy: 0.9464 - val_loss: 0.3731 - val_accuracy: 0.8304\n",
      "Epoch 13/20\n",
      "14/14 [==============================] - 0s 21ms/step - loss: 0.1493 - accuracy: 0.9464 - val_loss: 0.2859 - val_accuracy: 0.8571\n",
      "Epoch 14/20\n",
      "14/14 [==============================] - 0s 20ms/step - loss: 0.1096 - accuracy: 0.9665 - val_loss: 0.3645 - val_accuracy: 0.8304\n",
      "Epoch 15/20\n",
      "14/14 [==============================] - 0s 19ms/step - loss: 0.1223 - accuracy: 0.9621 - val_loss: 0.2898 - val_accuracy: 0.8839\n",
      "Epoch 16/20\n",
      "14/14 [==============================] - 0s 20ms/step - loss: 0.1089 - accuracy: 0.9621 - val_loss: 0.3203 - val_accuracy: 0.8571\n",
      "Epoch 17/20\n",
      "14/14 [==============================] - 0s 19ms/step - loss: 0.0740 - accuracy: 0.9777 - val_loss: 0.3256 - val_accuracy: 0.8750\n",
      "Epoch 18/20\n",
      "14/14 [==============================] - 0s 19ms/step - loss: 0.0735 - accuracy: 0.9732 - val_loss: 0.3690 - val_accuracy: 0.8750\n",
      "Epoch 19/20\n",
      "14/14 [==============================] - 0s 21ms/step - loss: 0.0692 - accuracy: 0.9799 - val_loss: 0.3740 - val_accuracy: 0.8571\n",
      "Epoch 20/20\n",
      "14/14 [==============================] - 0s 20ms/step - loss: 0.0775 - accuracy: 0.9732 - val_loss: 0.3066 - val_accuracy: 0.8839\n"
     ]
    }
   ],
   "source": [
    "model.compile(optimizer='adam',\n",
    "              loss=tf.keras.losses.categorical_crossentropy,\n",
    "              metrics=['accuracy'])\n",
    "\n",
    "with tf.device(\"/gpu:0\"):\n",
    "    history = model.fit(x_train, y_train, epochs=20, validation_split=0.2)"
   ]
  },
  {
   "cell_type": "code",
   "execution_count": 57,
   "metadata": {},
   "outputs": [
    {
     "data": {
      "image/png": "[encoded data removed]",
      "text/plain": [
       "<Figure size 576x576 with 2 Axes>"
      ]
     },
     "metadata": {
      "needs_background": "light"
     },
     "output_type": "display_data"
    }
   ],
   "source": [
    "import matplotlib.pyplot as plt\n",
    "\n",
    "acc = history.history['loss']\n",
    "val_acc = history.history['val_loss']\n",
    "\n",
    "loss = history.history['accuracy']\n",
    "val_loss = history.history['val_accuracy']\n",
    "\n",
    "epochs_range = range(20)\n",
    "\n",
    "plt.figure(figsize=(8, 8))\n",
    "plt.subplot(1, 2, 1)\n",
    "plt.plot(epochs_range, acc, label='Training Loss')\n",
    "plt.plot(epochs_range, val_acc, label='Validation Loss')\n",
    "plt.legend(loc='lower right')\n",
    "plt.title('Training and Validation Loss')\n",
    "\n",
    "plt.subplot(1, 2, 2)\n",
    "plt.plot(epochs_range, loss, label='Training Acc')\n",
    "plt.plot(epochs_range, val_loss, label='Validation Acc')\n",
    "plt.legend(loc='upper right')\n",
    "plt.title('Training and Validation Acc')\n",
    "plt.show()"
   ]
  },
  {
   "cell_type": "code",
   "execution_count": 58,
   "metadata": {},
   "outputs": [
    {
     "name": "stderr",
     "output_type": "stream",
     "text": [
      "2022-06-01 15:35:19.340628: I tensorflow/core/grappler/optimizers/custom_graph_optimizer_registry.cc:113] Plugin optimizer for device_type GPU is enabled.\n"
     ]
    }
   ],
   "source": [
    "Y_pred = model.predict(x_test)\n",
    "Y_pred_classes = np.argmax(Y_pred, axis = 1)\n",
    "\n",
    "Y_Lab = np.argmax(y_test, axis = 1)"
   ]
  },
  {
   "cell_type": "code",
   "execution_count": 59,
   "metadata": {},
   "outputs": [
    {
     "name": "stdout",
     "output_type": "stream",
     "text": [
      "5/5 [==============================] - 0s 16ms/step - loss: 0.5353 - accuracy: 0.8857\n"
     ]
    },
    {
     "data": {
      "text/plain": [
       "[0.5352627635002136, 0.8857142925262451]"
      ]
     },
     "execution_count": 59,
     "metadata": {},
     "output_type": "execute_result"
    }
   ],
   "source": [
    "model.evaluate(x_test,y_test)"
   ]
  },
  {
   "cell_type": "code",
   "execution_count": 60,
   "metadata": {},
   "outputs": [
    {
     "data": {
      "text/plain": [
       "<AxesSubplot:>"
      ]
     },
     "execution_count": 60,
     "metadata": {},
     "output_type": "execute_result"
    },
    {
     "data": {
      "image/png": "[encoded data removed]",
      "text/plain": [
       "<Figure size 432x288 with 2 Axes>"
      ]
     },
     "metadata": {
      "needs_background": "light"
     },
     "output_type": "display_data"
    }
   ],
   "source": [
    "from sklearn.metrics import confusion_matrix\n",
    "import pandas as pd\n",
    "import seaborn as sns\n",
    "\n",
    "classes = ['Conga&Bongo', 'Crash&OpenHat', 'Hi-Hat', 'Kick', 'Shaker', 'Snare', 'Tom']\n",
    "\n",
    "cm = pd.DataFrame(confusion_matrix(Y_Lab, Y_pred_classes), columns=classes, index=classes)\n",
    "sns.heatmap(cm, annot=True)"
   ]
  },
  {
   "cell_type": "code",
   "execution_count": null,
   "metadata": {},
   "outputs": [],
   "source": []
  }
 ],
 "metadata": {
  "interpreter": {
   "hash": "36975e2464779a1907498622a1ff8d141cf5663f65c7cf0c02ae689c8b788bad"
  },
  "kernelspec": {
   "display_name": "Python 3.9.12",
   "language": "python",
   "name": "python3"
  },
  "language_info": {
   "codemirror_mode": {
    "name": "ipython",
    "version": 3
   },
   "file_extension": ".py",
   "mimetype": "text/x-python",
   "name": "python",
   "nbconvert_exporter": "python",
   "pygments_lexer": "ipython3",
   "version": "3.9.12"
  },
  "orig_nbformat": 4
 },
 "nbformat": 4,
 "nbformat_minor": 2
}
